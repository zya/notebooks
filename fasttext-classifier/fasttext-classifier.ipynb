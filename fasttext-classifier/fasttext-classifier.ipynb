{
 "cells": [
  {
   "cell_type": "code",
   "execution_count": 11,
   "metadata": {},
   "outputs": [],
   "source": [
    "import fastText"
   ]
  },
  {
   "cell_type": "code",
   "execution_count": 22,
   "metadata": {},
   "outputs": [
    {
     "name": "stdout",
     "output_type": "stream",
     "text": [
      "N\t3000\n",
      "P@1\t0.568\n",
      "R@1\t0.246\n",
      "N\t3000\n",
      "P@1\t0.545\n",
      "R@1\t0.236\n",
      "N\t3000\n",
      "P@1\t0.531\n",
      "R@1\t0.230\n"
     ]
    }
   ],
   "source": [
    "def print_results(N, p, r):\n",
    "    print(\"N\\t\" + str(N))\n",
    "    print(\"P@{}\\t{:.3f}\".format(1, p))\n",
    "    print(\"R@{}\\t{:.3f}\".format(1, r))\n",
    "\n",
    "train_data = './spam.train'\n",
    "valid_data = './spam.valid'\n",
    "\n",
    "model = fastText.train_supervised(\n",
    "    input=train_data, epoch=25, lr=1.0, wordNgrams=2, verbose=2, minCount=1\n",
    ")\n",
    "print_results(*model.test(valid_data))\n",
    "\n",
    "model = fastText.train_supervised(\n",
    "    input=train_data, epoch=25, lr=1.0, wordNgrams=2, verbose=2, minCount=1,\n",
    "    loss='hs'\n",
    ")\n",
    "print_results(*model.test(valid_data))\n",
    "model.save_model('./spam.bin')\n",
    "\n",
    "model.quantize(input=train_data, qnorm=True, retrain=True, cutoff=100000)\n",
    "print_results(*model.test(valid_data))\n",
    "model.save_model('./spam.ftz')"
   ]
  },
  {
   "cell_type": "code",
   "execution_count": 20,
   "metadata": {},
   "outputs": [
    {
     "data": {
      "text/plain": [
       "(('__label__social',), array([0.99306303]))"
      ]
     },
     "execution_count": 20,
     "metadata": {},
     "output_type": "execute_result"
    }
   ],
   "source": [
    "m = fastText.load_model('./spam.ftz')\n",
    "m.predict('instagram')"
   ]
  }
 ],
 "metadata": {
  "kernelspec": {
   "display_name": "Python 3",
   "language": "python",
   "name": "python3"
  },
  "language_info": {
   "codemirror_mode": {
    "name": "ipython",
    "version": 3
   },
   "file_extension": ".py",
   "mimetype": "text/x-python",
   "name": "python",
   "nbconvert_exporter": "python",
   "pygments_lexer": "ipython3",
   "version": "3.6.4"
  }
 },
 "nbformat": 4,
 "nbformat_minor": 2
}
