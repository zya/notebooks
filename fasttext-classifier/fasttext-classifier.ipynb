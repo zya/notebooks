{
 "cells": [
  {
   "cell_type": "code",
   "execution_count": 2,
   "metadata": {},
   "outputs": [],
   "source": [
    "import fastText"
   ]
  },
  {
   "cell_type": "markdown",
   "metadata": {},
   "source": [
    "#### Generate a data set"
   ]
  },
  {
   "cell_type": "code",
   "execution_count": 49,
   "metadata": {},
   "outputs": [],
   "source": [
    "with open('./names.words') as file:\n",
    "    names = file.readlines()\n",
    "\n",
    "with open('./lastnames.words') as file:\n",
    "    last_names = file.readlines()\n",
    "\n",
    "with open('./credits.words') as file:\n",
    "    credits_words = file.readlines()\n",
    "    \n",
    "with open('./words.words') as file:\n",
    "    english = file.readlines()"
   ]
  },
  {
   "cell_type": "code",
   "execution_count": 92,
   "metadata": {},
   "outputs": [],
   "source": [
    "import random\n",
    "\n",
    "credits_training_size = 3000\n",
    "not_training_size = 1000\n",
    "credits_max_sentence_length = 9\n",
    "not_max_sentence_length = 50\n",
    "credits_training = []\n",
    "non_credits_training = []\n",
    "\n",
    "def is_credits_related(word):\n",
    "    for w in credits_words:\n",
    "        if any(word.lower() in credits_term for credits_term in w.lower().split(' ')):\n",
    "            return True\n",
    "    \n",
    "    return False\n",
    "\n",
    "for i in range(credits_training_size):\n",
    "    sentence = ''\n",
    "    length = int(random.random() * credits_max_sentence_length + 1)\n",
    "    \n",
    "    for j in range(length):\n",
    "        title = random.choice(credits_words).lower()\n",
    "        first = random.choice(names).lower()\n",
    "        last = random.choice(last_names).lower()\n",
    "        sentence += title + ' ' + first + ' ' + last + ' '\n",
    "        sentence = sentence.replace('\\n', '')\n",
    "    credits_training.append(sentence)\n",
    "\n",
    "for i in range(not_training_size):\n",
    "    sentence = ''\n",
    "    length = int(random.random() * not_max_sentence_length + 1)\n",
    "    \n",
    "    for j in range(length):\n",
    "        word = random.choice(english).replace('\\n', '')\n",
    "        if not is_credits_related(word):\n",
    "            sentence += word.lower() + ' '\n",
    "            \n",
    "    if len(sentence) > 0:\n",
    "        non_credits_training.append(sentence)"
   ]
  },
  {
   "cell_type": "code",
   "execution_count": 93,
   "metadata": {},
   "outputs": [],
   "source": [
    "with open('./credits.train', 'w') as file:\n",
    "    for line in credits_training:\n",
    "        file.write('__label__credits' + ' ' + line + '\\n')\n",
    "    for line in non_credits_training:\n",
    "        file.write('__label__not' + ' ' + line + '\\n')"
   ]
  },
  {
   "cell_type": "markdown",
   "metadata": {},
   "source": [
    "#### Train a model and save it to disk"
   ]
  },
  {
   "cell_type": "code",
   "execution_count": 94,
   "metadata": {},
   "outputs": [
    {
     "name": "stdout",
     "output_type": "stream",
     "text": [
      "N\t4000\n",
      "P@1\t1.000\n",
      "R@1\t1.000\n",
      "N\t4000\n",
      "P@1\t1.000\n",
      "R@1\t1.000\n"
     ]
    }
   ],
   "source": [
    "def print_results(N, p, r):\n",
    "    print(\"N\\t\" + str(N))\n",
    "    print(\"P@{}\\t{:.3f}\".format(1, p))\n",
    "    print(\"R@{}\\t{:.3f}\".format(1, r))\n",
    "\n",
    "train_data = './credits.train'\n",
    "valid_data = './credits.train'\n",
    "\n",
    "model = fastText.train_supervised(\n",
    "    input=train_data, epoch=50, lr=1.0, wordNgrams=2, verbose=2, minCount=1,\n",
    "    loss='hs'\n",
    ")\n",
    "print_results(*model.test(valid_data))\n",
    "model.save_model('./credits.bin')\n",
    "\n",
    "model.quantize(input=train_data, qnorm=True, retrain=True, cutoff=100000)\n",
    "print_results(*model.test(valid_data))\n",
    "model.save_model('./credits.ftz')"
   ]
  },
  {
   "cell_type": "markdown",
   "metadata": {},
   "source": [
    "#### Load the model and use it for inference"
   ]
  },
  {
   "cell_type": "code",
   "execution_count": 3,
   "metadata": {},
   "outputs": [
    {
     "name": "stdout",
     "output_type": "stream",
     "text": [
      "(('__label__credits',), array([0.99999571]))\n",
      "(('__label__not',), array([1.00000978]))\n"
     ]
    }
   ],
   "source": [
    "m = fastText.load_model('./credits.ftz')\n",
    "print(m.predict('directed by james'.lower()))\n",
    "print(m.predict('james went on and became an different person'.lower()))"
   ]
  }
 ],
 "metadata": {
  "kernelspec": {
   "display_name": "Python 3",
   "language": "python",
   "name": "python3"
  },
  "language_info": {
   "codemirror_mode": {
    "name": "ipython",
    "version": 3
   },
   "file_extension": ".py",
   "mimetype": "text/x-python",
   "name": "python",
   "nbconvert_exporter": "python",
   "pygments_lexer": "ipython3",
   "version": "3.6.4"
  }
 },
 "nbformat": 4,
 "nbformat_minor": 2
}
