{
 "cells": [
  {
   "cell_type": "markdown",
   "metadata": {
    "collapsed": true,
    "deletable": true,
    "editable": true
   },
   "source": [
    "# Language Translation\n",
    "In this project, you’re going to take a peek into the realm of neural network machine translation.  You’ll be training a sequence to sequence model on a dataset of English and French sentences that can translate new sentences from English to French.\n",
    "## Get the Data\n",
    "Since translating the whole language of English to French will take lots of time to train, we have provided you with a small portion of the English corpus."
   ]
  },
  {
   "cell_type": "code",
   "execution_count": 112,
   "metadata": {
    "collapsed": true,
    "deletable": true,
    "editable": true
   },
   "outputs": [],
   "source": [
    "\"\"\"\n",
    "DON'T MODIFY ANYTHING IN THIS CELL\n",
    "\"\"\"\n",
    "import helper\n",
    "import problem_unittests as tests\n",
    "\n",
    "source_path = 'data/small_vocab_en'\n",
    "target_path = 'data/small_vocab_fr'\n",
    "source_text = helper.load_data(source_path)\n",
    "target_text = helper.load_data(target_path)"
   ]
  },
  {
   "cell_type": "markdown",
   "metadata": {
    "deletable": true,
    "editable": true
   },
   "source": [
    "## Explore the Data\n",
    "Play around with view_sentence_range to view different parts of the data."
   ]
  },
  {
   "cell_type": "code",
   "execution_count": 113,
   "metadata": {
    "collapsed": false,
    "deletable": true,
    "editable": true
   },
   "outputs": [
    {
     "name": "stdout",
     "output_type": "stream",
     "text": [
      "Dataset Stats\n",
      "Roughly the number of unique words: 227\n",
      "Number of sentences: 137861\n",
      "Average number of words in a sentence: 13.225277634719028\n",
      "\n",
      "English sentences 0 to 10:\n",
      "new jersey is sometimes quiet during autumn , and it is snowy in april .\n",
      "the united states is usually chilly during july , and it is usually freezing in november .\n",
      "california is usually quiet during march , and it is usually hot in june .\n",
      "the united states is sometimes mild during june , and it is cold in september .\n",
      "your least liked fruit is the grape , but my least liked is the apple .\n",
      "his favorite fruit is the orange , but my favorite is the grape .\n",
      "paris is relaxing during december , but it is usually chilly in july .\n",
      "new jersey is busy during spring , and it is never hot in march .\n",
      "our least liked fruit is the lemon , but my least liked is the grape .\n",
      "the united states is sometimes busy during january , and it is sometimes warm in november .\n",
      "\n",
      "French sentences 0 to 10:\n",
      "new jersey est parfois calme pendant l' automne , et il est neigeux en avril .\n",
      "les états-unis est généralement froid en juillet , et il gèle habituellement en novembre .\n",
      "california est généralement calme en mars , et il est généralement chaud en juin .\n",
      "les états-unis est parfois légère en juin , et il fait froid en septembre .\n",
      "votre moins aimé fruit est le raisin , mais mon moins aimé est la pomme .\n",
      "son fruit préféré est l'orange , mais mon préféré est le raisin .\n",
      "paris est relaxant en décembre , mais il est généralement froid en juillet .\n",
      "new jersey est occupé au printemps , et il est jamais chaude en mars .\n",
      "notre fruit est moins aimé le citron , mais mon moins aimé est le raisin .\n",
      "les états-unis est parfois occupé en janvier , et il est parfois chaud en novembre .\n"
     ]
    }
   ],
   "source": [
    "view_sentence_range = (0, 10)\n",
    "\n",
    "\"\"\"\n",
    "DON'T MODIFY ANYTHING IN THIS CELL\n",
    "\"\"\"\n",
    "import numpy as np\n",
    "\n",
    "print('Dataset Stats')\n",
    "print('Roughly the number of unique words: {}'.format(len({word: None for word in source_text.split()})))\n",
    "\n",
    "sentences = source_text.split('\\n')\n",
    "word_counts = [len(sentence.split()) for sentence in sentences]\n",
    "print('Number of sentences: {}'.format(len(sentences)))\n",
    "print('Average number of words in a sentence: {}'.format(np.average(word_counts)))\n",
    "\n",
    "print()\n",
    "print('English sentences {} to {}:'.format(*view_sentence_range))\n",
    "print('\\n'.join(source_text.split('\\n')[view_sentence_range[0]:view_sentence_range[1]]))\n",
    "print()\n",
    "print('French sentences {} to {}:'.format(*view_sentence_range))\n",
    "print('\\n'.join(target_text.split('\\n')[view_sentence_range[0]:view_sentence_range[1]]))"
   ]
  },
  {
   "cell_type": "markdown",
   "metadata": {
    "deletable": true,
    "editable": true
   },
   "source": [
    "## Implement Preprocessing Function\n",
    "### Text to Word Ids\n",
    "As you did with other RNNs, you must turn the text into a number so the computer can understand it. In the function `text_to_ids()`, you'll turn `source_text` and `target_text` from words to ids.  However, you need to add the `<EOS>` word id at the end of `target_text`.  This will help the neural network predict when the sentence should end.\n",
    "\n",
    "You can get the `<EOS>` word id by doing:\n",
    "```python\n",
    "target_vocab_to_int['<EOS>']\n",
    "```\n",
    "You can get other word ids using `source_vocab_to_int` and `target_vocab_to_int`."
   ]
  },
  {
   "cell_type": "code",
   "execution_count": 114,
   "metadata": {
    "collapsed": false,
    "deletable": true,
    "editable": true
   },
   "outputs": [
    {
     "name": "stdout",
     "output_type": "stream",
     "text": [
      "Tests Passed\n"
     ]
    }
   ],
   "source": [
    "def text_to_ids(source_text, target_text, source_vocab_to_int, target_vocab_to_int):\n",
    "    \"\"\"\n",
    "    Convert source and target text to proper word ids\n",
    "    :param source_text: String that contains all the source text.\n",
    "    :param target_text: String that contains all the target text.\n",
    "    :param source_vocab_to_int: Dictionary to go from the source words to an id\n",
    "    :param target_vocab_to_int: Dictionary to go from the target words to an id\n",
    "    :return: A tuple of lists (source_id_text, target_id_text)\n",
    "    \"\"\"\n",
    "    # TODO: Implement Function\n",
    "    source_id_text = []\n",
    "    target_id_text = []\n",
    "    \n",
    "    for sentence in source_text.split('\\n'):\n",
    "        sentence_ids = [source_vocab_to_int[word] for word in sentence.split()]\n",
    "        source_id_text.append(sentence_ids)\n",
    "    \n",
    "    for sentence in target_text.split('\\n'):\n",
    "        sentence_ids = [target_vocab_to_int[word] for word in sentence.split()]\n",
    "        sentence_ids.append(target_vocab_to_int['<EOS>'])\n",
    "        target_id_text.append(sentence_ids)\n",
    "        \n",
    "    return source_id_text, target_id_text\n",
    "\n",
    "\"\"\"\n",
    "DON'T MODIFY ANYTHING IN THIS CELL THAT IS BELOW THIS LINE\n",
    "\"\"\"\n",
    "tests.test_text_to_ids(text_to_ids)"
   ]
  },
  {
   "cell_type": "markdown",
   "metadata": {
    "deletable": true,
    "editable": true
   },
   "source": [
    "### Preprocess all the data and save it\n",
    "Running the code cell below will preprocess all the data and save it to file."
   ]
  },
  {
   "cell_type": "code",
   "execution_count": 115,
   "metadata": {
    "collapsed": false,
    "deletable": true,
    "editable": true
   },
   "outputs": [],
   "source": [
    "\"\"\"\n",
    "DON'T MODIFY ANYTHING IN THIS CELL\n",
    "\"\"\"\n",
    "helper.preprocess_and_save_data(source_path, target_path, text_to_ids)"
   ]
  },
  {
   "cell_type": "markdown",
   "metadata": {
    "deletable": true,
    "editable": true
   },
   "source": [
    "# Check Point\n",
    "This is your first checkpoint. If you ever decide to come back to this notebook or have to restart the notebook, you can start from here. The preprocessed data has been saved to disk."
   ]
  },
  {
   "cell_type": "code",
   "execution_count": 116,
   "metadata": {
    "collapsed": true,
    "deletable": true,
    "editable": true
   },
   "outputs": [],
   "source": [
    "\"\"\"\n",
    "DON'T MODIFY ANYTHING IN THIS CELL\n",
    "\"\"\"\n",
    "import numpy as np\n",
    "import helper\n",
    "import problem_unittests as tests\n",
    "\n",
    "(source_int_text, target_int_text), (source_vocab_to_int, target_vocab_to_int), _ = helper.load_preprocess()"
   ]
  },
  {
   "cell_type": "markdown",
   "metadata": {
    "deletable": true,
    "editable": true
   },
   "source": [
    "### Check the Version of TensorFlow and Access to GPU\n",
    "This will check to make sure you have the correct version of TensorFlow and access to a GPU"
   ]
  },
  {
   "cell_type": "code",
   "execution_count": 117,
   "metadata": {
    "collapsed": false,
    "deletable": true,
    "editable": true
   },
   "outputs": [
    {
     "name": "stdout",
     "output_type": "stream",
     "text": [
      "TensorFlow Version: 1.3.0\n"
     ]
    },
    {
     "name": "stderr",
     "output_type": "stream",
     "text": [
      "/Users/ziyae01/anaconda/lib/python3.6/site-packages/ipykernel/__main__.py:15: UserWarning: No GPU found. Please use a GPU to train your neural network.\n"
     ]
    }
   ],
   "source": [
    "\"\"\"\n",
    "DON'T MODIFY ANYTHING IN THIS CELL\n",
    "\"\"\"\n",
    "from distutils.version import LooseVersion\n",
    "import warnings\n",
    "import tensorflow as tf\n",
    "from tensorflow.python.layers.core import Dense\n",
    "\n",
    "# Check TensorFlow Version\n",
    "assert LooseVersion(tf.__version__) >= LooseVersion('1.1'), 'Please use TensorFlow version 1.1 or newer'\n",
    "print('TensorFlow Version: {}'.format(tf.__version__))\n",
    "\n",
    "# Check for a GPU\n",
    "if not tf.test.gpu_device_name():\n",
    "    warnings.warn('No GPU found. Please use a GPU to train your neural network.')\n",
    "else:\n",
    "    print('Default GPU Device: {}'.format(tf.test.gpu_device_name()))"
   ]
  },
  {
   "cell_type": "markdown",
   "metadata": {
    "deletable": true,
    "editable": true
   },
   "source": [
    "## Build the Neural Network\n",
    "You'll build the components necessary to build a Sequence-to-Sequence model by implementing the following functions below:\n",
    "- `model_inputs`\n",
    "- `process_decoder_input`\n",
    "- `encoding_layer`\n",
    "- `decoding_layer_train`\n",
    "- `decoding_layer_infer`\n",
    "- `decoding_layer`\n",
    "- `seq2seq_model`\n",
    "\n",
    "### Input\n",
    "Implement the `model_inputs()` function to create TF Placeholders for the Neural Network. It should create the following placeholders:\n",
    "\n",
    "- Input text placeholder named \"input\" using the TF Placeholder name parameter with rank 2.\n",
    "- Targets placeholder with rank 2.\n",
    "- Learning rate placeholder with rank 0.\n",
    "- Keep probability placeholder named \"keep_prob\" using the TF Placeholder name parameter with rank 0.\n",
    "- Target sequence length placeholder named \"target_sequence_length\" with rank 1\n",
    "- Max target sequence length tensor named \"max_target_len\" getting its value from applying tf.reduce_max on the target_sequence_length placeholder. Rank 0.\n",
    "- Source sequence length placeholder named \"source_sequence_length\" with rank 1\n",
    "\n",
    "Return the placeholders in the following the tuple (input, targets, learning rate, keep probability, target sequence length, max target sequence length, source sequence length)"
   ]
  },
  {
   "cell_type": "code",
   "execution_count": 118,
   "metadata": {
    "collapsed": false,
    "deletable": true,
    "editable": true
   },
   "outputs": [
    {
     "name": "stdout",
     "output_type": "stream",
     "text": [
      "ERROR:tensorflow:==================================\n",
      "Object was never used (type <class 'tensorflow.python.framework.ops.Operation'>):\n",
      "<tf.Operation 'assert_rank_2/Assert/Assert' type=Assert>\n",
      "If you want to mark it as used call its \"mark_used()\" method.\n",
      "It was originally created here:\n",
      "['File \"/Users/ziyae01/anaconda/lib/python3.6/runpy.py\", line 193, in _run_module_as_main\\n    \"__main__\", mod_spec)', 'File \"/Users/ziyae01/anaconda/lib/python3.6/runpy.py\", line 85, in _run_code\\n    exec(code, run_globals)', 'File \"/Users/ziyae01/anaconda/lib/python3.6/site-packages/ipykernel/__main__.py\", line 3, in <module>\\n    app.launch_new_instance()', 'File \"/Users/ziyae01/anaconda/lib/python3.6/site-packages/traitlets/config/application.py\", line 658, in launch_instance\\n    app.start()', 'File \"/Users/ziyae01/anaconda/lib/python3.6/site-packages/ipykernel/kernelapp.py\", line 474, in start\\n    ioloop.IOLoop.instance().start()', 'File \"/Users/ziyae01/anaconda/lib/python3.6/site-packages/zmq/eventloop/ioloop.py\", line 177, in start\\n    super(ZMQIOLoop, self).start()', 'File \"/Users/ziyae01/anaconda/lib/python3.6/site-packages/tornado/ioloop.py\", line 887, in start\\n    handler_func(fd_obj, events)', 'File \"/Users/ziyae01/anaconda/lib/python3.6/site-packages/tornado/stack_context.py\", line 275, in null_wrapper\\n    return fn(*args, **kwargs)', 'File \"/Users/ziyae01/anaconda/lib/python3.6/site-packages/zmq/eventloop/zmqstream.py\", line 440, in _handle_events\\n    self._handle_recv()', 'File \"/Users/ziyae01/anaconda/lib/python3.6/site-packages/zmq/eventloop/zmqstream.py\", line 472, in _handle_recv\\n    self._run_callback(callback, msg)', 'File \"/Users/ziyae01/anaconda/lib/python3.6/site-packages/zmq/eventloop/zmqstream.py\", line 414, in _run_callback\\n    callback(*args, **kwargs)', 'File \"/Users/ziyae01/anaconda/lib/python3.6/site-packages/tornado/stack_context.py\", line 275, in null_wrapper\\n    return fn(*args, **kwargs)', 'File \"/Users/ziyae01/anaconda/lib/python3.6/site-packages/ipykernel/kernelbase.py\", line 276, in dispatcher\\n    return self.dispatch_shell(stream, msg)', 'File \"/Users/ziyae01/anaconda/lib/python3.6/site-packages/ipykernel/kernelbase.py\", line 228, in dispatch_shell\\n    handler(stream, idents, msg)', 'File \"/Users/ziyae01/anaconda/lib/python3.6/site-packages/ipykernel/kernelbase.py\", line 390, in execute_request\\n    user_expressions, allow_stdin)', 'File \"/Users/ziyae01/anaconda/lib/python3.6/site-packages/ipykernel/ipkernel.py\", line 196, in do_execute\\n    res = shell.run_cell(code, store_history=store_history, silent=silent)', 'File \"/Users/ziyae01/anaconda/lib/python3.6/site-packages/ipykernel/zmqshell.py\", line 501, in run_cell\\n    return super(ZMQInteractiveShell, self).run_cell(*args, **kwargs)', 'File \"/Users/ziyae01/anaconda/lib/python3.6/site-packages/IPython/core/interactiveshell.py\", line 2717, in run_cell\\n    interactivity=interactivity, compiler=compiler, result=result)', 'File \"/Users/ziyae01/anaconda/lib/python3.6/site-packages/IPython/core/interactiveshell.py\", line 2827, in run_ast_nodes\\n    if self.run_code(code, result):', 'File \"/Users/ziyae01/anaconda/lib/python3.6/site-packages/IPython/core/interactiveshell.py\", line 2881, in run_code\\n    exec(code_obj, self.user_global_ns, self.user_ns)', 'File \"<ipython-input-118-033836a1d717>\", line 22, in <module>\\n    tests.test_model_inputs(model_inputs)', 'File \"/Users/ziyae01/code/notebooks/udacity-deep-learning-foundations/language-translation/problem_unittests.py\", line 106, in test_model_inputs\\n    assert tf.assert_rank(lr, 0, message=\\'Learning Rate has wrong rank\\')', 'File \"/Users/ziyae01/anaconda/lib/python3.6/site-packages/tensorflow/python/ops/check_ops.py\", line 617, in assert_rank\\n    dynamic_condition, data, summarize)', 'File \"/Users/ziyae01/anaconda/lib/python3.6/site-packages/tensorflow/python/ops/check_ops.py\", line 571, in _assert_rank_condition\\n    return control_flow_ops.Assert(condition, data, summarize=summarize)', 'File \"/Users/ziyae01/anaconda/lib/python3.6/site-packages/tensorflow/python/util/tf_should_use.py\", line 175, in wrapped\\n    return _add_should_use_warning(fn(*args, **kwargs))', 'File \"/Users/ziyae01/anaconda/lib/python3.6/site-packages/tensorflow/python/util/tf_should_use.py\", line 144, in _add_should_use_warning\\n    wrapped = TFShouldUseWarningWrapper(x)', 'File \"/Users/ziyae01/anaconda/lib/python3.6/site-packages/tensorflow/python/util/tf_should_use.py\", line 101, in __init__\\n    stack = [s.strip() for s in traceback.format_stack()]']\n",
      "==================================\n",
      "ERROR:tensorflow:==================================\n",
      "Object was never used (type <class 'tensorflow.python.framework.ops.Operation'>):\n",
      "<tf.Operation 'assert_rank_3/Assert/Assert' type=Assert>\n",
      "If you want to mark it as used call its \"mark_used()\" method.\n",
      "It was originally created here:\n",
      "['File \"/Users/ziyae01/anaconda/lib/python3.6/runpy.py\", line 193, in _run_module_as_main\\n    \"__main__\", mod_spec)', 'File \"/Users/ziyae01/anaconda/lib/python3.6/runpy.py\", line 85, in _run_code\\n    exec(code, run_globals)', 'File \"/Users/ziyae01/anaconda/lib/python3.6/site-packages/ipykernel/__main__.py\", line 3, in <module>\\n    app.launch_new_instance()', 'File \"/Users/ziyae01/anaconda/lib/python3.6/site-packages/traitlets/config/application.py\", line 658, in launch_instance\\n    app.start()', 'File \"/Users/ziyae01/anaconda/lib/python3.6/site-packages/ipykernel/kernelapp.py\", line 474, in start\\n    ioloop.IOLoop.instance().start()', 'File \"/Users/ziyae01/anaconda/lib/python3.6/site-packages/zmq/eventloop/ioloop.py\", line 177, in start\\n    super(ZMQIOLoop, self).start()', 'File \"/Users/ziyae01/anaconda/lib/python3.6/site-packages/tornado/ioloop.py\", line 887, in start\\n    handler_func(fd_obj, events)', 'File \"/Users/ziyae01/anaconda/lib/python3.6/site-packages/tornado/stack_context.py\", line 275, in null_wrapper\\n    return fn(*args, **kwargs)', 'File \"/Users/ziyae01/anaconda/lib/python3.6/site-packages/zmq/eventloop/zmqstream.py\", line 440, in _handle_events\\n    self._handle_recv()', 'File \"/Users/ziyae01/anaconda/lib/python3.6/site-packages/zmq/eventloop/zmqstream.py\", line 472, in _handle_recv\\n    self._run_callback(callback, msg)', 'File \"/Users/ziyae01/anaconda/lib/python3.6/site-packages/zmq/eventloop/zmqstream.py\", line 414, in _run_callback\\n    callback(*args, **kwargs)', 'File \"/Users/ziyae01/anaconda/lib/python3.6/site-packages/tornado/stack_context.py\", line 275, in null_wrapper\\n    return fn(*args, **kwargs)', 'File \"/Users/ziyae01/anaconda/lib/python3.6/site-packages/ipykernel/kernelbase.py\", line 276, in dispatcher\\n    return self.dispatch_shell(stream, msg)', 'File \"/Users/ziyae01/anaconda/lib/python3.6/site-packages/ipykernel/kernelbase.py\", line 228, in dispatch_shell\\n    handler(stream, idents, msg)', 'File \"/Users/ziyae01/anaconda/lib/python3.6/site-packages/ipykernel/kernelbase.py\", line 390, in execute_request\\n    user_expressions, allow_stdin)', 'File \"/Users/ziyae01/anaconda/lib/python3.6/site-packages/ipykernel/ipkernel.py\", line 196, in do_execute\\n    res = shell.run_cell(code, store_history=store_history, silent=silent)', 'File \"/Users/ziyae01/anaconda/lib/python3.6/site-packages/ipykernel/zmqshell.py\", line 501, in run_cell\\n    return super(ZMQInteractiveShell, self).run_cell(*args, **kwargs)', 'File \"/Users/ziyae01/anaconda/lib/python3.6/site-packages/IPython/core/interactiveshell.py\", line 2717, in run_cell\\n    interactivity=interactivity, compiler=compiler, result=result)', 'File \"/Users/ziyae01/anaconda/lib/python3.6/site-packages/IPython/core/interactiveshell.py\", line 2827, in run_ast_nodes\\n    if self.run_code(code, result):', 'File \"/Users/ziyae01/anaconda/lib/python3.6/site-packages/IPython/core/interactiveshell.py\", line 2881, in run_code\\n    exec(code_obj, self.user_global_ns, self.user_ns)', 'File \"<ipython-input-118-033836a1d717>\", line 22, in <module>\\n    tests.test_model_inputs(model_inputs)', 'File \"/Users/ziyae01/code/notebooks/udacity-deep-learning-foundations/language-translation/problem_unittests.py\", line 107, in test_model_inputs\\n    assert tf.assert_rank(keep_prob, 0, message=\\'Keep Probability has wrong rank\\')', 'File \"/Users/ziyae01/anaconda/lib/python3.6/site-packages/tensorflow/python/ops/check_ops.py\", line 617, in assert_rank\\n    dynamic_condition, data, summarize)', 'File \"/Users/ziyae01/anaconda/lib/python3.6/site-packages/tensorflow/python/ops/check_ops.py\", line 571, in _assert_rank_condition\\n    return control_flow_ops.Assert(condition, data, summarize=summarize)', 'File \"/Users/ziyae01/anaconda/lib/python3.6/site-packages/tensorflow/python/util/tf_should_use.py\", line 175, in wrapped\\n    return _add_should_use_warning(fn(*args, **kwargs))', 'File \"/Users/ziyae01/anaconda/lib/python3.6/site-packages/tensorflow/python/util/tf_should_use.py\", line 144, in _add_should_use_warning\\n    wrapped = TFShouldUseWarningWrapper(x)', 'File \"/Users/ziyae01/anaconda/lib/python3.6/site-packages/tensorflow/python/util/tf_should_use.py\", line 101, in __init__\\n    stack = [s.strip() for s in traceback.format_stack()]']\n",
      "==================================\n",
      "Tests Passed\n"
     ]
    }
   ],
   "source": [
    "def model_inputs():\n",
    "    \"\"\"\n",
    "    Create TF Placeholders for input, targets, learning rate, and lengths of source and target sequences.\n",
    "    :return: Tuple (input, targets, learning rate, keep probability, target sequence length,\n",
    "    max target sequence length, source sequence length)\n",
    "    \"\"\"\n",
    "    # TODO: Implement Function\n",
    "    inputs = tf.placeholder(tf.int32, [None, None], name='input')\n",
    "    targets = tf.placeholder(tf.int32, [None, None], name='targets')\n",
    "    lr = tf.placeholder(tf.float32)\n",
    "    keep_prb = tf.placeholder(tf.float32, name='keep_prob')\n",
    "    target_seq_length = tf.placeholder(tf.int32, [None], name='target_sequence_length')\n",
    "    max_target_seq_length = tf.reduce_max(target_seq_length, name='max_target_len')\n",
    "    source_seq_length = tf.placeholder(tf.int32, [None], name='source_sequence_length')\n",
    "    \n",
    "    return inputs, targets, lr, keep_prb, target_seq_length, max_target_seq_length, source_seq_length\n",
    "\n",
    "\n",
    "\"\"\"\n",
    "DON'T MODIFY ANYTHING IN THIS CELL THAT IS BELOW THIS LINE\n",
    "\"\"\"\n",
    "tests.test_model_inputs(model_inputs)"
   ]
  },
  {
   "cell_type": "markdown",
   "metadata": {
    "deletable": true,
    "editable": true
   },
   "source": [
    "### Process Decoder Input\n",
    "Implement `process_decoder_input` by removing the last word id from each batch in `target_data` and concat the GO ID to the begining of each batch."
   ]
  },
  {
   "cell_type": "code",
   "execution_count": 119,
   "metadata": {
    "collapsed": false,
    "deletable": true,
    "editable": true
   },
   "outputs": [
    {
     "name": "stdout",
     "output_type": "stream",
     "text": [
      "Tests Passed\n"
     ]
    }
   ],
   "source": [
    "def process_decoder_input(target_data, target_vocab_to_int, batch_size):\n",
    "    \"\"\"\n",
    "    Preprocess target data for encoding\n",
    "    :param target_data: Target Placehoder\n",
    "    :param target_vocab_to_int: Dictionary to go from the target words to an id\n",
    "    :param batch_size: Batch Size\n",
    "    :return: Preprocessed target data\n",
    "    \"\"\"\n",
    "    ending = tf.strided_slice(target_data, [0, 0], [batch_size, -1], [1, 1])\n",
    "    dec_input = tf.concat([tf.fill([batch_size, 1], target_vocab_to_int['<GO>']), ending], 1)\n",
    "    \n",
    "    return dec_input\n",
    "\n",
    "\"\"\"\n",
    "DON'T MODIFY ANYTHING IN THIS CELL THAT IS BELOW THIS LINE\n",
    "\"\"\"\n",
    "tests.test_process_encoding_input(process_decoder_input)"
   ]
  },
  {
   "cell_type": "markdown",
   "metadata": {
    "deletable": true,
    "editable": true
   },
   "source": [
    "### Encoding\n",
    "Implement `encoding_layer()` to create a Encoder RNN layer:\n",
    " * Embed the encoder input using [`tf.contrib.layers.embed_sequence`](https://www.tensorflow.org/api_docs/python/tf/contrib/layers/embed_sequence)\n",
    " * Construct a [stacked](https://github.com/tensorflow/tensorflow/blob/6947f65a374ebf29e74bb71e36fd82760056d82c/tensorflow/docs_src/tutorials/recurrent.md#stacking-multiple-lstms) [`tf.contrib.rnn.LSTMCell`](https://www.tensorflow.org/api_docs/python/tf/contrib/rnn/LSTMCell) wrapped in a [`tf.contrib.rnn.DropoutWrapper`](https://www.tensorflow.org/api_docs/python/tf/contrib/rnn/DropoutWrapper)\n",
    " * Pass cell and embedded input to [`tf.nn.dynamic_rnn()`](https://www.tensorflow.org/api_docs/python/tf/nn/dynamic_rnn)"
   ]
  },
  {
   "cell_type": "code",
   "execution_count": 120,
   "metadata": {
    "collapsed": false,
    "deletable": true,
    "editable": true,
    "scrolled": false
   },
   "outputs": [
    {
     "name": "stdout",
     "output_type": "stream",
     "text": [
      "Tests Passed\n"
     ]
    }
   ],
   "source": [
    "from imp import reload\n",
    "reload(tests)\n",
    "\n",
    "def encoding_layer(rnn_inputs, rnn_size, num_layers, keep_prob, \n",
    "                   source_sequence_length, source_vocab_size, \n",
    "                   encoding_embedding_size):\n",
    "    \"\"\"\n",
    "    Create encoding layer\n",
    "    :param rnn_inputs: Inputs for the RNN\n",
    "    :param rnn_size: RNN Size\n",
    "    :param num_layers: Number of layers\n",
    "    :param keep_prob: Dropout keep probability\n",
    "    :param source_sequence_length: a list of the lengths of each sequence in the batch\n",
    "    :param source_vocab_size: vocabulary size of source data\n",
    "    :param encoding_embedding_size: embedding size of source data\n",
    "    :return: tuple (RNN output, RNN state)\n",
    "    \"\"\"\n",
    "    embedding = tf.contrib.layers.embed_sequence(rnn_inputs, source_vocab_size, encoding_embedding_size)\n",
    "    \n",
    "    def make_cell():\n",
    "        lstm = tf.contrib.rnn.LSTMCell(rnn_size, initializer=tf.random_uniform_initializer(-0.1, 0.1, seed=2))\n",
    "        return tf.contrib.rnn.DropoutWrapper(lstm, keep_prob)\n",
    "    \n",
    "    cell = tf.contrib.rnn.MultiRNNCell([make_cell() for i in range(num_layers)])\n",
    "    return tf.nn.dynamic_rnn(cell, embedding, sequence_length=source_sequence_length, dtype=tf.float32)\n",
    "\n",
    "\n",
    "\"\"\"\n",
    "DON'T MODIFY ANYTHING IN THIS CELL THAT IS BELOW THIS LINE\n",
    "\"\"\"\n",
    "tests.test_encoding_layer(encoding_layer)"
   ]
  },
  {
   "cell_type": "markdown",
   "metadata": {
    "deletable": true,
    "editable": true
   },
   "source": [
    "### Decoding - Training\n",
    "Create a training decoding layer:\n",
    "* Create a [`tf.contrib.seq2seq.TrainingHelper`](https://www.tensorflow.org/api_docs/python/tf/contrib/seq2seq/TrainingHelper) \n",
    "* Create a [`tf.contrib.seq2seq.BasicDecoder`](https://www.tensorflow.org/api_docs/python/tf/contrib/seq2seq/BasicDecoder)\n",
    "* Obtain the decoder outputs from [`tf.contrib.seq2seq.dynamic_decode`](https://www.tensorflow.org/api_docs/python/tf/contrib/seq2seq/dynamic_decode)"
   ]
  },
  {
   "cell_type": "code",
   "execution_count": 121,
   "metadata": {
    "collapsed": false,
    "deletable": true,
    "editable": true
   },
   "outputs": [
    {
     "name": "stdout",
     "output_type": "stream",
     "text": [
      "Tests Passed\n"
     ]
    }
   ],
   "source": [
    "\n",
    "def decoding_layer_train(encoder_state, dec_cell, dec_embed_input, \n",
    "                         target_sequence_length, max_summary_length, \n",
    "                         output_layer, keep_prob):\n",
    "    \"\"\"\n",
    "    Create a decoding layer for training\n",
    "    :param encoder_state: Encoder State\n",
    "    :param dec_cell: Decoder RNN Cell\n",
    "    :param dec_embed_input: Decoder embedded input\n",
    "    :param target_sequence_length: The lengths of each sequence in the target batch\n",
    "    :param max_summary_length: The length of the longest sequence in the batch\n",
    "    :param output_layer: Function to apply the output layer\n",
    "    :param keep_prob: Dropout keep probability\n",
    "    :return: BasicDecoderOutput containing training logits and sample_id\n",
    "    \"\"\"\n",
    "    helper = tf.contrib.seq2seq.TrainingHelper(dec_embed_input, target_sequence_length)    \n",
    "    decoder = tf.contrib.seq2seq.BasicDecoder(dec_cell, helper, encoder_state, output_layer=output_layer)\n",
    "    final_outputs, _, _ = tf.contrib.seq2seq.dynamic_decode(decoder, maximum_iterations=max_summary_length)\n",
    "    return final_outputs\n",
    "\n",
    "\n",
    "\n",
    "\"\"\"\n",
    "DON'T MODIFY ANYTHING IN THIS CELL THAT IS BELOW THIS LINE\n",
    "\"\"\"\n",
    "tests.test_decoding_layer_train(decoding_layer_train)"
   ]
  },
  {
   "cell_type": "markdown",
   "metadata": {
    "deletable": true,
    "editable": true
   },
   "source": [
    "### Decoding - Inference\n",
    "Create inference decoder:\n",
    "* Create a [`tf.contrib.seq2seq.GreedyEmbeddingHelper`](https://www.tensorflow.org/api_docs/python/tf/contrib/seq2seq/GreedyEmbeddingHelper)\n",
    "* Create a [`tf.contrib.seq2seq.BasicDecoder`](https://www.tensorflow.org/api_docs/python/tf/contrib/seq2seq/BasicDecoder)\n",
    "* Obtain the decoder outputs from [`tf.contrib.seq2seq.dynamic_decode`](https://www.tensorflow.org/api_docs/python/tf/contrib/seq2seq/dynamic_decode)"
   ]
  },
  {
   "cell_type": "code",
   "execution_count": 122,
   "metadata": {
    "collapsed": false,
    "deletable": true,
    "editable": true,
    "scrolled": true
   },
   "outputs": [
    {
     "name": "stdout",
     "output_type": "stream",
     "text": [
      "Tests Passed\n"
     ]
    }
   ],
   "source": [
    "def decoding_layer_infer(encoder_state, dec_cell, dec_embeddings, start_of_sequence_id,\n",
    "                         end_of_sequence_id, max_target_sequence_length,\n",
    "                         vocab_size, output_layer, batch_size, keep_prob):\n",
    "    \"\"\"\n",
    "    Create a decoding layer for inference\n",
    "    :param encoder_state: Encoder state\n",
    "    :param dec_cell: Decoder RNN Cell\n",
    "    :param dec_embeddings: Decoder embeddings\n",
    "    :param start_of_sequence_id: GO ID\n",
    "    :param end_of_sequence_id: EOS Id\n",
    "    :param max_target_sequence_length: Maximum length of target sequences\n",
    "    :param vocab_size: Size of decoder/target vocabulary\n",
    "    :param decoding_scope: TenorFlow Variable Scope for decoding\n",
    "    :param output_layer: Function to apply the output layer\n",
    "    :param batch_size: Batch size\n",
    "    :param keep_prob: Dropout keep probability\n",
    "    :return: BasicDecoderOutput containing inference logits and sample_id\n",
    "    \"\"\"\n",
    "    start_tokens = tf.tile(tf.constant([start_of_sequence_id], dtype=tf.int32), [batch_size], name='start_tokens')\n",
    "    helper = tf.contrib.seq2seq.GreedyEmbeddingHelper(dec_embeddings, start_tokens, end_of_sequence_id)\n",
    "    decoder = tf.contrib.seq2seq.BasicDecoder(dec_cell, helper, encoder_state, output_layer)\n",
    "    output, _, _ = tf.contrib.seq2seq.dynamic_decode(decoder, maximum_iterations=max_target_sequence_length)\n",
    "    return output\n",
    "\n",
    "\n",
    "\n",
    "\"\"\"\n",
    "DON'T MODIFY ANYTHING IN THIS CELL THAT IS BELOW THIS LINE\n",
    "\"\"\"\n",
    "tests.test_decoding_layer_infer(decoding_layer_infer)"
   ]
  },
  {
   "cell_type": "markdown",
   "metadata": {
    "deletable": true,
    "editable": true
   },
   "source": [
    "### Build the Decoding Layer\n",
    "Implement `decoding_layer()` to create a Decoder RNN layer.\n",
    "\n",
    "* Embed the target sequences\n",
    "* Construct the decoder LSTM cell (just like you constructed the encoder cell above)\n",
    "* Create an output layer to map the outputs of the decoder to the elements of our vocabulary\n",
    "* Use the your `decoding_layer_train(encoder_state, dec_cell, dec_embed_input, target_sequence_length, max_target_sequence_length, output_layer, keep_prob)` function to get the training logits.\n",
    "* Use your `decoding_layer_infer(encoder_state, dec_cell, dec_embeddings, start_of_sequence_id, end_of_sequence_id, max_target_sequence_length, vocab_size, output_layer, batch_size, keep_prob)` function to get the inference logits.\n",
    "\n",
    "Note: You'll need to use [tf.variable_scope](https://www.tensorflow.org/api_docs/python/tf/variable_scope) to share variables between training and inference."
   ]
  },
  {
   "cell_type": "code",
   "execution_count": 123,
   "metadata": {
    "collapsed": false,
    "deletable": true,
    "editable": true
   },
   "outputs": [
    {
     "name": "stdout",
     "output_type": "stream",
     "text": [
      "Tests Passed\n"
     ]
    }
   ],
   "source": [
    "from tensorflow.python.layers.core import Dense\n",
    "def decoding_layer(dec_input, encoder_state,\n",
    "                   target_sequence_length, max_target_sequence_length,\n",
    "                   rnn_size,\n",
    "                   num_layers, target_vocab_to_int, target_vocab_size,\n",
    "                   batch_size, keep_prob, decoding_embedding_size):\n",
    "    \"\"\"\n",
    "    Create decoding layer\n",
    "    :param dec_input: Decoder input\n",
    "    :param encoder_state: Encoder state\n",
    "    :param target_sequence_length: The lengths of each sequence in the target batch\n",
    "    :param max_target_sequence_length: Maximum length of target sequences\n",
    "    :param rnn_size: RNN Size\n",
    "    :param num_layers: Number of layers\n",
    "    :param target_vocab_to_int: Dictionary to go from the target words to an id\n",
    "    :param target_vocab_size: Size of target vocabulary\n",
    "    :param batch_size: The size of the batch\n",
    "    :param keep_prob: Dropout keep probability\n",
    "    :param decoding_embedding_size: Decoding embedding size\n",
    "    :return: Tuple of (Training BasicDecoderOutput, Inference BasicDecoderOutput)\n",
    "    \"\"\"\n",
    "    decoder_embeddings = tf.Variable(tf.random_uniform([target_vocab_size, decoding_embedding_size]))\n",
    "    decoder_embed_input = tf.nn.embedding_lookup(decoder_embeddings, dec_input)\n",
    "    \n",
    "    def make_cell():\n",
    "        lstm = tf.contrib.rnn.LSTMCell(rnn_size, initializer=tf.random_uniform_initializer(-0.1, 0.1, seed=2))\n",
    "        return tf.contrib.rnn.DropoutWrapper(lstm, keep_prob)\n",
    "    \n",
    "    cell = tf.contrib.rnn.MultiRNNCell([make_cell() for i in range(num_layers)])\n",
    "    \n",
    "    output_layer = Dense(target_vocab_size, kernel_initializer=tf.truncated_normal_initializer(mean=0.0, stddev=0.1))\n",
    "    \n",
    "    with tf.variable_scope(\"decode\"):\n",
    "        training = decoding_layer_train(encoder_state, cell, decoder_embed_input, target_sequence_length, max_target_sequence_length, output_layer, keep_prob)\n",
    "        \n",
    "    with tf.variable_scope(\"decode\", reuse=True):\n",
    "        start_of_sequence_id = target_vocab_to_int['<GO>']\n",
    "        end_of_sequence_id = target_vocab_to_int['<EOS>']\n",
    "        inference = decoding_layer_infer(encoder_state, cell, decoder_embeddings, start_of_sequence_id, end_of_sequence_id, max_target_sequence_length, target_vocab_size, output_layer, batch_size, keep_prob)\n",
    "    \n",
    "    return training, inference\n",
    "\n",
    "\n",
    "\n",
    "\"\"\"\n",
    "DON'T MODIFY ANYTHING IN THIS CELL THAT IS BELOW THIS LINE\n",
    "\"\"\"\n",
    "tests.test_decoding_layer(decoding_layer)"
   ]
  },
  {
   "cell_type": "markdown",
   "metadata": {
    "deletable": true,
    "editable": true
   },
   "source": [
    "### Build the Neural Network\n",
    "Apply the functions you implemented above to:\n",
    "\n",
    "- Encode the input using your `encoding_layer(rnn_inputs, rnn_size, num_layers, keep_prob,  source_sequence_length, source_vocab_size, encoding_embedding_size)`.\n",
    "- Process target data using your `process_decoder_input(target_data, target_vocab_to_int, batch_size)` function.\n",
    "- Decode the encoded input using your `decoding_layer(dec_input, enc_state, target_sequence_length, max_target_sentence_length, rnn_size, num_layers, target_vocab_to_int, target_vocab_size, batch_size, keep_prob, dec_embedding_size)` function."
   ]
  },
  {
   "cell_type": "code",
   "execution_count": 124,
   "metadata": {
    "collapsed": false,
    "deletable": true,
    "editable": true
   },
   "outputs": [
    {
     "name": "stdout",
     "output_type": "stream",
     "text": [
      "Tests Passed\n"
     ]
    }
   ],
   "source": [
    "def seq2seq_model(input_data, target_data, keep_prob, batch_size,\n",
    "                  source_sequence_length, target_sequence_length,\n",
    "                  max_target_sentence_length,\n",
    "                  source_vocab_size, target_vocab_size,\n",
    "                  enc_embedding_size, dec_embedding_size,\n",
    "                  rnn_size, num_layers, target_vocab_to_int):\n",
    "    \"\"\"\n",
    "    Build the Sequence-to-Sequence part of the neural network\n",
    "    :param input_data: Input placeholder\n",
    "    :param target_data: Target placeholder\n",
    "    :param keep_prob: Dropout keep probability placeholder\n",
    "    :param batch_size: Batch Size\n",
    "    :param source_sequence_length: Sequence Lengths of source sequences in the batch\n",
    "    :param target_sequence_length: Sequence Lengths of target sequences in the batch\n",
    "    :param source_vocab_size: Source vocabulary size\n",
    "    :param target_vocab_size: Target vocabulary size\n",
    "    :param enc_embedding_size: Decoder embedding size\n",
    "    :param dec_embedding_size: Encoder embedding size\n",
    "    :param rnn_size: RNN Size\n",
    "    :param num_layers: Number of layers\n",
    "    :param target_vocab_to_int: Dictionary to go from the target words to an id\n",
    "    :return: Tuple of (Training BasicDecoderOutput, Inference BasicDecoderOutput)\n",
    "    \"\"\"\n",
    "    # TODO: Implement Function\n",
    "    output, state = encoding_layer(input_data, rnn_size, num_layers, keep_prob, source_sequence_length, source_vocab_size, enc_embedding_size)\n",
    "    processed_target_data = process_decoder_input(target_data, target_vocab_to_int, batch_size)\n",
    "    return decoding_layer(processed_target_data, state, target_sequence_length, max_target_sentence_length, rnn_size, num_layers, target_vocab_to_int, target_vocab_size, batch_size, keep_prob, dec_embedding_size)\n",
    "\n",
    "\n",
    "\"\"\"\n",
    "DON'T MODIFY ANYTHING IN THIS CELL THAT IS BELOW THIS LINE\n",
    "\"\"\"\n",
    "tests.test_seq2seq_model(seq2seq_model)"
   ]
  },
  {
   "cell_type": "markdown",
   "metadata": {
    "deletable": true,
    "editable": true
   },
   "source": [
    "## Neural Network Training\n",
    "### Hyperparameters\n",
    "Tune the following parameters:\n",
    "\n",
    "- Set `epochs` to the number of epochs.\n",
    "- Set `batch_size` to the batch size.\n",
    "- Set `rnn_size` to the size of the RNNs.\n",
    "- Set `num_layers` to the number of layers.\n",
    "- Set `encoding_embedding_size` to the size of the embedding for the encoder.\n",
    "- Set `decoding_embedding_size` to the size of the embedding for the decoder.\n",
    "- Set `learning_rate` to the learning rate.\n",
    "- Set `keep_probability` to the Dropout keep probability\n",
    "- Set `display_step` to state how many steps between each debug output statement"
   ]
  },
  {
   "cell_type": "code",
   "execution_count": 125,
   "metadata": {
    "collapsed": true,
    "deletable": true,
    "editable": true
   },
   "outputs": [],
   "source": [
    "# Number of Epochs\n",
    "epochs = 10\n",
    "# Batch Size\n",
    "batch_size = 512\n",
    "# RNN Size\n",
    "rnn_size = 256\n",
    "# Number of Layers\n",
    "num_layers = 2\n",
    "# Embedding Size\n",
    "encoding_embedding_size = 200\n",
    "decoding_embedding_size = 200\n",
    "# Learning Rate\n",
    "learning_rate = 0.001\n",
    "# Dropout Keep Probability\n",
    "keep_probability = 0.5\n",
    "display_step = 10"
   ]
  },
  {
   "cell_type": "markdown",
   "metadata": {
    "deletable": true,
    "editable": true
   },
   "source": [
    "### Build the Graph\n",
    "Build the graph using the neural network you implemented."
   ]
  },
  {
   "cell_type": "code",
   "execution_count": 126,
   "metadata": {
    "collapsed": false,
    "deletable": true,
    "editable": true
   },
   "outputs": [],
   "source": [
    "\"\"\"\n",
    "DON'T MODIFY ANYTHING IN THIS CELL\n",
    "\"\"\"\n",
    "save_path = 'checkpoints/dev'\n",
    "(source_int_text, target_int_text), (source_vocab_to_int, target_vocab_to_int), _ = helper.load_preprocess()\n",
    "max_target_sentence_length = max([len(sentence) for sentence in source_int_text])\n",
    "\n",
    "train_graph = tf.Graph()\n",
    "with train_graph.as_default():\n",
    "    input_data, targets, lr, keep_prob, target_sequence_length, max_target_sequence_length, source_sequence_length = model_inputs()\n",
    "\n",
    "    #sequence_length = tf.placeholder_with_default(max_target_sentence_length, None, name='sequence_length')\n",
    "    input_shape = tf.shape(input_data)\n",
    "\n",
    "    train_logits, inference_logits = seq2seq_model(tf.reverse(input_data, [-1]),\n",
    "                                                   targets,\n",
    "                                                   keep_prob,\n",
    "                                                   batch_size,\n",
    "                                                   source_sequence_length,\n",
    "                                                   target_sequence_length,\n",
    "                                                   max_target_sequence_length,\n",
    "                                                   len(source_vocab_to_int),\n",
    "                                                   len(target_vocab_to_int),\n",
    "                                                   encoding_embedding_size,\n",
    "                                                   decoding_embedding_size,\n",
    "                                                   rnn_size,\n",
    "                                                   num_layers,\n",
    "                                                   target_vocab_to_int)\n",
    "\n",
    "\n",
    "    training_logits = tf.identity(train_logits.rnn_output, name='logits')\n",
    "    inference_logits = tf.identity(inference_logits.sample_id, name='predictions')\n",
    "\n",
    "    masks = tf.sequence_mask(target_sequence_length, max_target_sequence_length, dtype=tf.float32, name='masks')\n",
    "\n",
    "    with tf.name_scope(\"optimization\"):\n",
    "        # Loss function\n",
    "        cost = tf.contrib.seq2seq.sequence_loss(\n",
    "            training_logits,\n",
    "            targets,\n",
    "            masks)\n",
    "\n",
    "        # Optimizer\n",
    "        optimizer = tf.train.AdamOptimizer(lr)\n",
    "\n",
    "        # Gradient Clipping\n",
    "        gradients = optimizer.compute_gradients(cost)\n",
    "        capped_gradients = [(tf.clip_by_value(grad, -1., 1.), var) for grad, var in gradients if grad is not None]\n",
    "        train_op = optimizer.apply_gradients(capped_gradients)\n"
   ]
  },
  {
   "cell_type": "markdown",
   "metadata": {
    "deletable": true,
    "editable": true
   },
   "source": [
    "Batch and pad the source and target sequences"
   ]
  },
  {
   "cell_type": "code",
   "execution_count": 127,
   "metadata": {
    "collapsed": true,
    "deletable": true,
    "editable": true
   },
   "outputs": [],
   "source": [
    "\"\"\"\n",
    "DON'T MODIFY ANYTHING IN THIS CELL\n",
    "\"\"\"\n",
    "def pad_sentence_batch(sentence_batch, pad_int):\n",
    "    \"\"\"Pad sentences with <PAD> so that each sentence of a batch has the same length\"\"\"\n",
    "    max_sentence = max([len(sentence) for sentence in sentence_batch])\n",
    "    return [sentence + [pad_int] * (max_sentence - len(sentence)) for sentence in sentence_batch]\n",
    "\n",
    "\n",
    "def get_batches(sources, targets, batch_size, source_pad_int, target_pad_int):\n",
    "    \"\"\"Batch targets, sources, and the lengths of their sentences together\"\"\"\n",
    "    for batch_i in range(0, len(sources)//batch_size):\n",
    "        start_i = batch_i * batch_size\n",
    "\n",
    "        # Slice the right amount for the batch\n",
    "        sources_batch = sources[start_i:start_i + batch_size]\n",
    "        targets_batch = targets[start_i:start_i + batch_size]\n",
    "\n",
    "        # Pad\n",
    "        pad_sources_batch = np.array(pad_sentence_batch(sources_batch, source_pad_int))\n",
    "        pad_targets_batch = np.array(pad_sentence_batch(targets_batch, target_pad_int))\n",
    "\n",
    "        # Need the lengths for the _lengths parameters\n",
    "        pad_targets_lengths = []\n",
    "        for target in pad_targets_batch:\n",
    "            pad_targets_lengths.append(len(target))\n",
    "\n",
    "        pad_source_lengths = []\n",
    "        for source in pad_sources_batch:\n",
    "            pad_source_lengths.append(len(source))\n",
    "\n",
    "        yield pad_sources_batch, pad_targets_batch, pad_source_lengths, pad_targets_lengths\n"
   ]
  },
  {
   "cell_type": "markdown",
   "metadata": {
    "deletable": true,
    "editable": true
   },
   "source": [
    "### Train\n",
    "Train the neural network on the preprocessed data. If you have a hard time getting a good loss, check the forms to see if anyone is having the same problem."
   ]
  },
  {
   "cell_type": "code",
   "execution_count": 128,
   "metadata": {
    "collapsed": false,
    "deletable": true,
    "editable": true,
    "scrolled": true
   },
   "outputs": [
    {
     "name": "stdout",
     "output_type": "stream",
     "text": [
      "Epoch   0 Batch   10/269 - Train Accuracy: 0.2967, Validation Accuracy: 0.3663, Loss: 3.4660\n",
      "Epoch   0 Batch   20/269 - Train Accuracy: 0.3645, Validation Accuracy: 0.4180, Loss: 2.8852\n",
      "Epoch   0 Batch   30/269 - Train Accuracy: 0.4205, Validation Accuracy: 0.4513, Loss: 2.5417\n",
      "Epoch   0 Batch   40/269 - Train Accuracy: 0.4388, Validation Accuracy: 0.4878, Loss: 2.4533\n",
      "Epoch   0 Batch   50/269 - Train Accuracy: 0.4496, Validation Accuracy: 0.4930, Loss: 2.2651\n",
      "Epoch   0 Batch   60/269 - Train Accuracy: 0.4921, Validation Accuracy: 0.5129, Loss: 1.9306\n",
      "Epoch   0 Batch   70/269 - Train Accuracy: 0.5049, Validation Accuracy: 0.5169, Loss: 1.8408\n",
      "Epoch   0 Batch   80/269 - Train Accuracy: 0.4932, Validation Accuracy: 0.5107, Loss: 1.7110\n",
      "Epoch   0 Batch   90/269 - Train Accuracy: 0.4582, Validation Accuracy: 0.5209, Loss: 1.7243\n",
      "Epoch   0 Batch  100/269 - Train Accuracy: 0.4666, Validation Accuracy: 0.4743, Loss: 1.4917\n",
      "Epoch   0 Batch  110/269 - Train Accuracy: 0.4582, Validation Accuracy: 0.5016, Loss: 1.4548\n",
      "Epoch   0 Batch  120/269 - Train Accuracy: 0.4045, Validation Accuracy: 0.4708, Loss: 1.4340\n",
      "Epoch   0 Batch  130/269 - Train Accuracy: 0.4642, Validation Accuracy: 0.5155, Loss: 1.4040\n",
      "Epoch   0 Batch  140/269 - Train Accuracy: 0.4448, Validation Accuracy: 0.4735, Loss: 1.2658\n",
      "Epoch   0 Batch  150/269 - Train Accuracy: 0.4967, Validation Accuracy: 0.5170, Loss: 1.2122\n",
      "Epoch   0 Batch  160/269 - Train Accuracy: 0.5206, Validation Accuracy: 0.5379, Loss: 1.1543\n",
      "Epoch   0 Batch  170/269 - Train Accuracy: 0.5171, Validation Accuracy: 0.5365, Loss: 1.0949\n",
      "Epoch   0 Batch  180/269 - Train Accuracy: 0.5170, Validation Accuracy: 0.5403, Loss: 1.0227\n",
      "Epoch   0 Batch  190/269 - Train Accuracy: 0.5235, Validation Accuracy: 0.5448, Loss: 0.9814\n",
      "Epoch   0 Batch  200/269 - Train Accuracy: 0.5188, Validation Accuracy: 0.5481, Loss: 0.9730\n",
      "Epoch   0 Batch  210/269 - Train Accuracy: 0.5445, Validation Accuracy: 0.5532, Loss: 0.8981\n",
      "Epoch   0 Batch  220/269 - Train Accuracy: 0.5558, Validation Accuracy: 0.5705, Loss: 0.8339\n",
      "Epoch   0 Batch  230/269 - Train Accuracy: 0.5418, Validation Accuracy: 0.5769, Loss: 0.8425\n",
      "Epoch   0 Batch  240/269 - Train Accuracy: 0.5838, Validation Accuracy: 0.5736, Loss: 0.7563\n",
      "Epoch   0 Batch  250/269 - Train Accuracy: 0.5428, Validation Accuracy: 0.5770, Loss: 0.8196\n",
      "Epoch   0 Batch  260/269 - Train Accuracy: 0.5546, Validation Accuracy: 0.5792, Loss: 0.8153\n",
      "Epoch   1 Batch   10/269 - Train Accuracy: 0.5603, Validation Accuracy: 0.5890, Loss: 0.7557\n",
      "Epoch   1 Batch   20/269 - Train Accuracy: 0.5917, Validation Accuracy: 0.6041, Loss: 0.7537\n",
      "Epoch   1 Batch   30/269 - Train Accuracy: 0.6092, Validation Accuracy: 0.6219, Loss: 0.6971\n",
      "Epoch   1 Batch   40/269 - Train Accuracy: 0.6007, Validation Accuracy: 0.6237, Loss: 0.7207\n",
      "Epoch   1 Batch   50/269 - Train Accuracy: 0.6068, Validation Accuracy: 0.6316, Loss: 0.7035\n",
      "Epoch   1 Batch   60/269 - Train Accuracy: 0.6273, Validation Accuracy: 0.6310, Loss: 0.6332\n",
      "Epoch   1 Batch   70/269 - Train Accuracy: 0.6336, Validation Accuracy: 0.6170, Loss: 0.6557\n",
      "Epoch   1 Batch   80/269 - Train Accuracy: 0.6424, Validation Accuracy: 0.6315, Loss: 0.6314\n",
      "Epoch   1 Batch   90/269 - Train Accuracy: 0.5881, Validation Accuracy: 0.6286, Loss: 0.6564\n",
      "Epoch   1 Batch  100/269 - Train Accuracy: 0.6505, Validation Accuracy: 0.6315, Loss: 0.6040\n",
      "Epoch   1 Batch  110/269 - Train Accuracy: 0.6260, Validation Accuracy: 0.6337, Loss: 0.5917\n",
      "Epoch   1 Batch  120/269 - Train Accuracy: 0.6278, Validation Accuracy: 0.6372, Loss: 0.6089\n",
      "Epoch   1 Batch  130/269 - Train Accuracy: 0.6059, Validation Accuracy: 0.6402, Loss: 0.6011\n",
      "Epoch   1 Batch  140/269 - Train Accuracy: 0.6450, Validation Accuracy: 0.6464, Loss: 0.5814\n",
      "Epoch   1 Batch  150/269 - Train Accuracy: 0.6417, Validation Accuracy: 0.6530, Loss: 0.5683\n",
      "Epoch   1 Batch  160/269 - Train Accuracy: 0.6501, Validation Accuracy: 0.6539, Loss: 0.5496\n",
      "Epoch   1 Batch  170/269 - Train Accuracy: 0.6492, Validation Accuracy: 0.6564, Loss: 0.5448\n",
      "Epoch   1 Batch  180/269 - Train Accuracy: 0.6538, Validation Accuracy: 0.6608, Loss: 0.5345\n",
      "Epoch   1 Batch  190/269 - Train Accuracy: 0.6524, Validation Accuracy: 0.6716, Loss: 0.5146\n",
      "Epoch   1 Batch  200/269 - Train Accuracy: 0.6504, Validation Accuracy: 0.6694, Loss: 0.5388\n",
      "Epoch   1 Batch  210/269 - Train Accuracy: 0.6777, Validation Accuracy: 0.6779, Loss: 0.5020\n",
      "Epoch   1 Batch  220/269 - Train Accuracy: 0.6712, Validation Accuracy: 0.6749, Loss: 0.4769\n",
      "Epoch   1 Batch  230/269 - Train Accuracy: 0.6705, Validation Accuracy: 0.6705, Loss: 0.4958\n",
      "Epoch   1 Batch  240/269 - Train Accuracy: 0.7120, Validation Accuracy: 0.6835, Loss: 0.4424\n",
      "Epoch   1 Batch  250/269 - Train Accuracy: 0.6704, Validation Accuracy: 0.6978, Loss: 0.4940\n",
      "Epoch   1 Batch  260/269 - Train Accuracy: 0.6561, Validation Accuracy: 0.6900, Loss: 0.4985\n",
      "Epoch   2 Batch   10/269 - Train Accuracy: 0.6897, Validation Accuracy: 0.6990, Loss: 0.4689\n",
      "Epoch   2 Batch   20/269 - Train Accuracy: 0.7008, Validation Accuracy: 0.7093, Loss: 0.4623\n",
      "Epoch   2 Batch   30/269 - Train Accuracy: 0.7065, Validation Accuracy: 0.7097, Loss: 0.4440\n",
      "Epoch   2 Batch   40/269 - Train Accuracy: 0.7019, Validation Accuracy: 0.7165, Loss: 0.4509\n",
      "Epoch   2 Batch   50/269 - Train Accuracy: 0.7026, Validation Accuracy: 0.7128, Loss: 0.4422\n",
      "Epoch   2 Batch   60/269 - Train Accuracy: 0.7340, Validation Accuracy: 0.7292, Loss: 0.3926\n",
      "Epoch   2 Batch   70/269 - Train Accuracy: 0.7333, Validation Accuracy: 0.7317, Loss: 0.4095\n",
      "Epoch   2 Batch   80/269 - Train Accuracy: 0.7462, Validation Accuracy: 0.7417, Loss: 0.3919\n",
      "Epoch   2 Batch   90/269 - Train Accuracy: 0.7102, Validation Accuracy: 0.7415, Loss: 0.4082\n",
      "Epoch   2 Batch  100/269 - Train Accuracy: 0.7680, Validation Accuracy: 0.7505, Loss: 0.3725\n",
      "Epoch   2 Batch  110/269 - Train Accuracy: 0.7523, Validation Accuracy: 0.7475, Loss: 0.3676\n",
      "Epoch   2 Batch  120/269 - Train Accuracy: 0.7473, Validation Accuracy: 0.7585, Loss: 0.3753\n",
      "Epoch   2 Batch  130/269 - Train Accuracy: 0.7493, Validation Accuracy: 0.7536, Loss: 0.3630\n",
      "Epoch   2 Batch  140/269 - Train Accuracy: 0.7583, Validation Accuracy: 0.7652, Loss: 0.3571\n",
      "Epoch   2 Batch  150/269 - Train Accuracy: 0.7842, Validation Accuracy: 0.7729, Loss: 0.3348\n",
      "Epoch   2 Batch  160/269 - Train Accuracy: 0.7951, Validation Accuracy: 0.7871, Loss: 0.3295\n",
      "Epoch   2 Batch  170/269 - Train Accuracy: 0.8076, Validation Accuracy: 0.7954, Loss: 0.3110\n",
      "Epoch   2 Batch  180/269 - Train Accuracy: 0.8178, Validation Accuracy: 0.8022, Loss: 0.3104\n",
      "Epoch   2 Batch  190/269 - Train Accuracy: 0.8196, Validation Accuracy: 0.8120, Loss: 0.2889\n",
      "Epoch   2 Batch  200/269 - Train Accuracy: 0.8204, Validation Accuracy: 0.8202, Loss: 0.3014\n",
      "Epoch   2 Batch  210/269 - Train Accuracy: 0.8220, Validation Accuracy: 0.8228, Loss: 0.2761\n",
      "Epoch   2 Batch  220/269 - Train Accuracy: 0.8452, Validation Accuracy: 0.8290, Loss: 0.2608\n",
      "Epoch   2 Batch  230/269 - Train Accuracy: 0.8353, Validation Accuracy: 0.8338, Loss: 0.2639\n",
      "Epoch   2 Batch  240/269 - Train Accuracy: 0.8561, Validation Accuracy: 0.8396, Loss: 0.2354\n",
      "Epoch   2 Batch  250/269 - Train Accuracy: 0.8367, Validation Accuracy: 0.8517, Loss: 0.2595\n",
      "Epoch   2 Batch  260/269 - Train Accuracy: 0.8266, Validation Accuracy: 0.8436, Loss: 0.2634\n",
      "Epoch   3 Batch   10/269 - Train Accuracy: 0.8674, Validation Accuracy: 0.8578, Loss: 0.2311\n",
      "Epoch   3 Batch   20/269 - Train Accuracy: 0.8618, Validation Accuracy: 0.8641, Loss: 0.2291\n",
      "Epoch   3 Batch   30/269 - Train Accuracy: 0.8607, Validation Accuracy: 0.8594, Loss: 0.2210\n",
      "Epoch   3 Batch   40/269 - Train Accuracy: 0.8490, Validation Accuracy: 0.8631, Loss: 0.2264\n",
      "Epoch   3 Batch   50/269 - Train Accuracy: 0.8419, Validation Accuracy: 0.8612, Loss: 0.2177\n",
      "Epoch   3 Batch   60/269 - Train Accuracy: 0.8737, Validation Accuracy: 0.8688, Loss: 0.1888\n",
      "Epoch   3 Batch   70/269 - Train Accuracy: 0.8822, Validation Accuracy: 0.8613, Loss: 0.1981\n",
      "Epoch   3 Batch   80/269 - Train Accuracy: 0.8786, Validation Accuracy: 0.8693, Loss: 0.1882\n",
      "Epoch   3 Batch   90/269 - Train Accuracy: 0.8697, Validation Accuracy: 0.8749, Loss: 0.1939\n",
      "Epoch   3 Batch  100/269 - Train Accuracy: 0.8943, Validation Accuracy: 0.8819, Loss: 0.1750\n",
      "Epoch   3 Batch  110/269 - Train Accuracy: 0.8815, Validation Accuracy: 0.8667, Loss: 0.1695\n",
      "Epoch   3 Batch  120/269 - Train Accuracy: 0.8797, Validation Accuracy: 0.8803, Loss: 0.1716\n",
      "Epoch   3 Batch  130/269 - Train Accuracy: 0.8801, Validation Accuracy: 0.8696, Loss: 0.1742\n",
      "Epoch   3 Batch  140/269 - Train Accuracy: 0.8823, Validation Accuracy: 0.8843, Loss: 0.1674\n",
      "Epoch   3 Batch  150/269 - Train Accuracy: 0.8824, Validation Accuracy: 0.8906, Loss: 0.1585\n",
      "Epoch   3 Batch  160/269 - Train Accuracy: 0.8895, Validation Accuracy: 0.8938, Loss: 0.1572\n",
      "Epoch   3 Batch  170/269 - Train Accuracy: 0.8863, Validation Accuracy: 0.8947, Loss: 0.1485\n",
      "Epoch   3 Batch  180/269 - Train Accuracy: 0.9032, Validation Accuracy: 0.8854, Loss: 0.1418\n",
      "Epoch   3 Batch  190/269 - Train Accuracy: 0.8952, Validation Accuracy: 0.9048, Loss: 0.1339\n",
      "Epoch   3 Batch  200/269 - Train Accuracy: 0.8890, Validation Accuracy: 0.8932, Loss: 0.1421\n",
      "Epoch   3 Batch  210/269 - Train Accuracy: 0.9002, Validation Accuracy: 0.9023, Loss: 0.1311\n",
      "Epoch   3 Batch  220/269 - Train Accuracy: 0.9077, Validation Accuracy: 0.8960, Loss: 0.1287\n",
      "Epoch   3 Batch  230/269 - Train Accuracy: 0.9076, Validation Accuracy: 0.9062, Loss: 0.1219\n",
      "Epoch   3 Batch  240/269 - Train Accuracy: 0.9192, Validation Accuracy: 0.9070, Loss: 0.1162\n",
      "Epoch   3 Batch  250/269 - Train Accuracy: 0.9064, Validation Accuracy: 0.9080, Loss: 0.1255\n",
      "Epoch   3 Batch  260/269 - Train Accuracy: 0.8969, Validation Accuracy: 0.9033, Loss: 0.1304\n",
      "Epoch   4 Batch   10/269 - Train Accuracy: 0.9209, Validation Accuracy: 0.9070, Loss: 0.1067\n",
      "Epoch   4 Batch   20/269 - Train Accuracy: 0.9162, Validation Accuracy: 0.9067, Loss: 0.1074\n",
      "Epoch   4 Batch   30/269 - Train Accuracy: 0.9187, Validation Accuracy: 0.9102, Loss: 0.1069\n",
      "Epoch   4 Batch   40/269 - Train Accuracy: 0.9081, Validation Accuracy: 0.9053, Loss: 0.1126\n",
      "Epoch   4 Batch   50/269 - Train Accuracy: 0.8895, Validation Accuracy: 0.9039, Loss: 0.1128\n",
      "Epoch   4 Batch   60/269 - Train Accuracy: 0.9091, Validation Accuracy: 0.9096, Loss: 0.0933\n",
      "Epoch   4 Batch   70/269 - Train Accuracy: 0.9266, Validation Accuracy: 0.9085, Loss: 0.1031\n",
      "Epoch   4 Batch   80/269 - Train Accuracy: 0.9129, Validation Accuracy: 0.9154, Loss: 0.0965\n",
      "Epoch   4 Batch   90/269 - Train Accuracy: 0.9208, Validation Accuracy: 0.9101, Loss: 0.0975\n",
      "Epoch   4 Batch  100/269 - Train Accuracy: 0.9251, Validation Accuracy: 0.9204, Loss: 0.0924\n",
      "Epoch   4 Batch  110/269 - Train Accuracy: 0.9188, Validation Accuracy: 0.9121, Loss: 0.0861\n",
      "Epoch   4 Batch  120/269 - Train Accuracy: 0.9311, Validation Accuracy: 0.9088, Loss: 0.0883\n",
      "Epoch   4 Batch  130/269 - Train Accuracy: 0.9249, Validation Accuracy: 0.9144, Loss: 0.0906\n",
      "Epoch   4 Batch  140/269 - Train Accuracy: 0.9208, Validation Accuracy: 0.9202, Loss: 0.0906\n",
      "Epoch   4 Batch  150/269 - Train Accuracy: 0.9181, Validation Accuracy: 0.9275, Loss: 0.0881\n",
      "Epoch   4 Batch  160/269 - Train Accuracy: 0.9235, Validation Accuracy: 0.9189, Loss: 0.0860\n",
      "Epoch   4 Batch  170/269 - Train Accuracy: 0.9237, Validation Accuracy: 0.9236, Loss: 0.0801\n",
      "Epoch   4 Batch  180/269 - Train Accuracy: 0.9341, Validation Accuracy: 0.9150, Loss: 0.0781\n",
      "Epoch   4 Batch  190/269 - Train Accuracy: 0.9274, Validation Accuracy: 0.9271, Loss: 0.0742\n",
      "Epoch   4 Batch  200/269 - Train Accuracy: 0.9272, Validation Accuracy: 0.9272, Loss: 0.0754\n",
      "Epoch   4 Batch  210/269 - Train Accuracy: 0.9226, Validation Accuracy: 0.9318, Loss: 0.0746\n",
      "Epoch   4 Batch  220/269 - Train Accuracy: 0.9302, Validation Accuracy: 0.9311, Loss: 0.0741\n",
      "Epoch   4 Batch  230/269 - Train Accuracy: 0.9289, Validation Accuracy: 0.9301, Loss: 0.0709\n",
      "Epoch   4 Batch  240/269 - Train Accuracy: 0.9427, Validation Accuracy: 0.9331, Loss: 0.0668\n",
      "Epoch   4 Batch  250/269 - Train Accuracy: 0.9396, Validation Accuracy: 0.9308, Loss: 0.0698\n",
      "Epoch   4 Batch  260/269 - Train Accuracy: 0.9265, Validation Accuracy: 0.9332, Loss: 0.0797\n",
      "Epoch   5 Batch   10/269 - Train Accuracy: 0.9360, Validation Accuracy: 0.9337, Loss: 0.0595\n",
      "Epoch   5 Batch   20/269 - Train Accuracy: 0.9394, Validation Accuracy: 0.9301, Loss: 0.0650\n",
      "Epoch   5 Batch   30/269 - Train Accuracy: 0.9391, Validation Accuracy: 0.9242, Loss: 0.0647\n",
      "Epoch   5 Batch   40/269 - Train Accuracy: 0.9232, Validation Accuracy: 0.9347, Loss: 0.0693\n",
      "Epoch   5 Batch   50/269 - Train Accuracy: 0.9247, Validation Accuracy: 0.9366, Loss: 0.0713\n",
      "Epoch   5 Batch   60/269 - Train Accuracy: 0.9347, Validation Accuracy: 0.9318, Loss: 0.0596\n",
      "Epoch   5 Batch   70/269 - Train Accuracy: 0.9364, Validation Accuracy: 0.9362, Loss: 0.0653\n",
      "Epoch   5 Batch   80/269 - Train Accuracy: 0.9343, Validation Accuracy: 0.9332, Loss: 0.0606\n",
      "Epoch   5 Batch   90/269 - Train Accuracy: 0.9322, Validation Accuracy: 0.9292, Loss: 0.0634\n",
      "Epoch   5 Batch  100/269 - Train Accuracy: 0.9442, Validation Accuracy: 0.9371, Loss: 0.0601\n",
      "Epoch   5 Batch  110/269 - Train Accuracy: 0.9423, Validation Accuracy: 0.9346, Loss: 0.0570\n",
      "Epoch   5 Batch  120/269 - Train Accuracy: 0.9408, Validation Accuracy: 0.9370, Loss: 0.0604\n",
      "Epoch   5 Batch  130/269 - Train Accuracy: 0.9468, Validation Accuracy: 0.9450, Loss: 0.0615\n",
      "Epoch   5 Batch  140/269 - Train Accuracy: 0.9383, Validation Accuracy: 0.9420, Loss: 0.0594\n",
      "Epoch   5 Batch  150/269 - Train Accuracy: 0.9381, Validation Accuracy: 0.9408, Loss: 0.0571\n",
      "Epoch   5 Batch  160/269 - Train Accuracy: 0.9339, Validation Accuracy: 0.9479, Loss: 0.0575\n",
      "Epoch   5 Batch  170/269 - Train Accuracy: 0.9422, Validation Accuracy: 0.9507, Loss: 0.0549\n",
      "Epoch   5 Batch  180/269 - Train Accuracy: 0.9492, Validation Accuracy: 0.9470, Loss: 0.0511\n",
      "Epoch   5 Batch  190/269 - Train Accuracy: 0.9414, Validation Accuracy: 0.9437, Loss: 0.0516\n",
      "Epoch   5 Batch  200/269 - Train Accuracy: 0.9456, Validation Accuracy: 0.9435, Loss: 0.0545\n",
      "Epoch   5 Batch  210/269 - Train Accuracy: 0.9453, Validation Accuracy: 0.9499, Loss: 0.0504\n",
      "Epoch   5 Batch  220/269 - Train Accuracy: 0.9451, Validation Accuracy: 0.9440, Loss: 0.0507\n",
      "Epoch   5 Batch  230/269 - Train Accuracy: 0.9507, Validation Accuracy: 0.9474, Loss: 0.0516\n",
      "Epoch   5 Batch  240/269 - Train Accuracy: 0.9521, Validation Accuracy: 0.9455, Loss: 0.0469\n",
      "Epoch   5 Batch  250/269 - Train Accuracy: 0.9473, Validation Accuracy: 0.9492, Loss: 0.0505\n",
      "Epoch   5 Batch  260/269 - Train Accuracy: 0.9451, Validation Accuracy: 0.9438, Loss: 0.0578\n",
      "Epoch   6 Batch   10/269 - Train Accuracy: 0.9451, Validation Accuracy: 0.9490, Loss: 0.0445\n",
      "Epoch   6 Batch   20/269 - Train Accuracy: 0.9452, Validation Accuracy: 0.9524, Loss: 0.0475\n",
      "Epoch   6 Batch   30/269 - Train Accuracy: 0.9474, Validation Accuracy: 0.9514, Loss: 0.0507\n",
      "Epoch   6 Batch   40/269 - Train Accuracy: 0.9302, Validation Accuracy: 0.9472, Loss: 0.0520\n",
      "Epoch   6 Batch   50/269 - Train Accuracy: 0.9358, Validation Accuracy: 0.9524, Loss: 0.0548\n",
      "Epoch   6 Batch   60/269 - Train Accuracy: 0.9573, Validation Accuracy: 0.9497, Loss: 0.0423\n",
      "Epoch   6 Batch   70/269 - Train Accuracy: 0.9514, Validation Accuracy: 0.9515, Loss: 0.0510\n",
      "Epoch   6 Batch   80/269 - Train Accuracy: 0.9502, Validation Accuracy: 0.9540, Loss: 0.0472\n",
      "Epoch   6 Batch   90/269 - Train Accuracy: 0.9566, Validation Accuracy: 0.9484, Loss: 0.0462\n",
      "Epoch   6 Batch  100/269 - Train Accuracy: 0.9558, Validation Accuracy: 0.9505, Loss: 0.0462\n",
      "Epoch   6 Batch  110/269 - Train Accuracy: 0.9447, Validation Accuracy: 0.9513, Loss: 0.0421\n",
      "Epoch   6 Batch  120/269 - Train Accuracy: 0.9526, Validation Accuracy: 0.9492, Loss: 0.0454\n",
      "Epoch   6 Batch  130/269 - Train Accuracy: 0.9558, Validation Accuracy: 0.9514, Loss: 0.0467\n",
      "Epoch   6 Batch  140/269 - Train Accuracy: 0.9555, Validation Accuracy: 0.9513, Loss: 0.0477\n",
      "Epoch   6 Batch  150/269 - Train Accuracy: 0.9522, Validation Accuracy: 0.9564, Loss: 0.0433\n",
      "Epoch   6 Batch  160/269 - Train Accuracy: 0.9539, Validation Accuracy: 0.9548, Loss: 0.0504\n",
      "Epoch   6 Batch  170/269 - Train Accuracy: 0.9555, Validation Accuracy: 0.9498, Loss: 0.0411\n",
      "Epoch   6 Batch  180/269 - Train Accuracy: 0.9627, Validation Accuracy: 0.9543, Loss: 0.0413\n",
      "Epoch   6 Batch  190/269 - Train Accuracy: 0.9554, Validation Accuracy: 0.9518, Loss: 0.0418\n",
      "Epoch   6 Batch  200/269 - Train Accuracy: 0.9540, Validation Accuracy: 0.9609, Loss: 0.0391\n",
      "Epoch   6 Batch  210/269 - Train Accuracy: 0.9540, Validation Accuracy: 0.9562, Loss: 0.0406\n",
      "Epoch   6 Batch  220/269 - Train Accuracy: 0.9510, Validation Accuracy: 0.9526, Loss: 0.0411\n",
      "Epoch   6 Batch  230/269 - Train Accuracy: 0.9578, Validation Accuracy: 0.9608, Loss: 0.0396\n",
      "Epoch   6 Batch  240/269 - Train Accuracy: 0.9632, Validation Accuracy: 0.9599, Loss: 0.0381\n",
      "Epoch   6 Batch  250/269 - Train Accuracy: 0.9582, Validation Accuracy: 0.9602, Loss: 0.0400\n",
      "Epoch   6 Batch  260/269 - Train Accuracy: 0.9565, Validation Accuracy: 0.9628, Loss: 0.0449\n",
      "Epoch   7 Batch   10/269 - Train Accuracy: 0.9660, Validation Accuracy: 0.9541, Loss: 0.0347\n",
      "Epoch   7 Batch   20/269 - Train Accuracy: 0.9539, Validation Accuracy: 0.9581, Loss: 0.0363\n",
      "Epoch   7 Batch   30/269 - Train Accuracy: 0.9563, Validation Accuracy: 0.9599, Loss: 0.0389\n",
      "Epoch   7 Batch   40/269 - Train Accuracy: 0.9521, Validation Accuracy: 0.9604, Loss: 0.0398\n",
      "Epoch   7 Batch   50/269 - Train Accuracy: 0.9561, Validation Accuracy: 0.9569, Loss: 0.0440\n",
      "Epoch   7 Batch   60/269 - Train Accuracy: 0.9603, Validation Accuracy: 0.9536, Loss: 0.0345\n",
      "Epoch   7 Batch   70/269 - Train Accuracy: 0.9596, Validation Accuracy: 0.9578, Loss: 0.0420\n",
      "Epoch   7 Batch   80/269 - Train Accuracy: 0.9627, Validation Accuracy: 0.9598, Loss: 0.0384\n",
      "Epoch   7 Batch   90/269 - Train Accuracy: 0.9644, Validation Accuracy: 0.9618, Loss: 0.0375\n",
      "Epoch   7 Batch  100/269 - Train Accuracy: 0.9689, Validation Accuracy: 0.9590, Loss: 0.0382\n",
      "Epoch   7 Batch  110/269 - Train Accuracy: 0.9557, Validation Accuracy: 0.9573, Loss: 0.0337\n",
      "Epoch   7 Batch  120/269 - Train Accuracy: 0.9579, Validation Accuracy: 0.9567, Loss: 0.0384\n",
      "Epoch   7 Batch  130/269 - Train Accuracy: 0.9614, Validation Accuracy: 0.9638, Loss: 0.0391\n",
      "Epoch   7 Batch  140/269 - Train Accuracy: 0.9583, Validation Accuracy: 0.9625, Loss: 0.0383\n",
      "Epoch   7 Batch  150/269 - Train Accuracy: 0.9585, Validation Accuracy: 0.9627, Loss: 0.0386\n",
      "Epoch   7 Batch  160/269 - Train Accuracy: 0.9596, Validation Accuracy: 0.9691, Loss: 0.0343\n",
      "Epoch   7 Batch  170/269 - Train Accuracy: 0.9648, Validation Accuracy: 0.9625, Loss: 0.0325\n",
      "Epoch   7 Batch  180/269 - Train Accuracy: 0.9673, Validation Accuracy: 0.9656, Loss: 0.0319\n",
      "Epoch   7 Batch  190/269 - Train Accuracy: 0.9621, Validation Accuracy: 0.9625, Loss: 0.0340\n",
      "Epoch   7 Batch  200/269 - Train Accuracy: 0.9703, Validation Accuracy: 0.9668, Loss: 0.0316\n",
      "Epoch   7 Batch  210/269 - Train Accuracy: 0.9686, Validation Accuracy: 0.9688, Loss: 0.0311\n",
      "Epoch   7 Batch  220/269 - Train Accuracy: 0.9644, Validation Accuracy: 0.9629, Loss: 0.0324\n",
      "Epoch   7 Batch  230/269 - Train Accuracy: 0.9621, Validation Accuracy: 0.9684, Loss: 0.0322\n",
      "Epoch   7 Batch  240/269 - Train Accuracy: 0.9671, Validation Accuracy: 0.9599, Loss: 0.0288\n",
      "Epoch   7 Batch  250/269 - Train Accuracy: 0.9671, Validation Accuracy: 0.9622, Loss: 0.0305\n",
      "Epoch   7 Batch  260/269 - Train Accuracy: 0.9649, Validation Accuracy: 0.9721, Loss: 0.0389\n",
      "Epoch   8 Batch   10/269 - Train Accuracy: 0.9593, Validation Accuracy: 0.9652, Loss: 0.0290\n",
      "Epoch   8 Batch   20/269 - Train Accuracy: 0.9640, Validation Accuracy: 0.9626, Loss: 0.0297\n",
      "Epoch   8 Batch   30/269 - Train Accuracy: 0.9633, Validation Accuracy: 0.9697, Loss: 0.0336\n",
      "Epoch   8 Batch   40/269 - Train Accuracy: 0.9628, Validation Accuracy: 0.9614, Loss: 0.0335\n",
      "Epoch   8 Batch   50/269 - Train Accuracy: 0.9557, Validation Accuracy: 0.9633, Loss: 0.0354\n",
      "Epoch   8 Batch   60/269 - Train Accuracy: 0.9654, Validation Accuracy: 0.9670, Loss: 0.0304\n",
      "Epoch   8 Batch   70/269 - Train Accuracy: 0.9676, Validation Accuracy: 0.9670, Loss: 0.0344\n",
      "Epoch   8 Batch   80/269 - Train Accuracy: 0.9718, Validation Accuracy: 0.9651, Loss: 0.0297\n",
      "Epoch   8 Batch   90/269 - Train Accuracy: 0.9615, Validation Accuracy: 0.9574, Loss: 0.0330\n",
      "Epoch   8 Batch  100/269 - Train Accuracy: 0.9717, Validation Accuracy: 0.9672, Loss: 0.0307\n",
      "Epoch   8 Batch  110/269 - Train Accuracy: 0.9651, Validation Accuracy: 0.9645, Loss: 0.0277\n",
      "Epoch   8 Batch  120/269 - Train Accuracy: 0.9632, Validation Accuracy: 0.9637, Loss: 0.0304\n",
      "Epoch   8 Batch  130/269 - Train Accuracy: 0.9671, Validation Accuracy: 0.9692, Loss: 0.0300\n",
      "Epoch   8 Batch  140/269 - Train Accuracy: 0.9669, Validation Accuracy: 0.9661, Loss: 0.0301\n",
      "Epoch   8 Batch  150/269 - Train Accuracy: 0.9680, Validation Accuracy: 0.9677, Loss: 0.0315\n",
      "Epoch   8 Batch  160/269 - Train Accuracy: 0.9685, Validation Accuracy: 0.9643, Loss: 0.0308\n",
      "Epoch   8 Batch  170/269 - Train Accuracy: 0.9650, Validation Accuracy: 0.9656, Loss: 0.0273\n",
      "Epoch   8 Batch  180/269 - Train Accuracy: 0.9758, Validation Accuracy: 0.9661, Loss: 0.0273\n",
      "Epoch   8 Batch  190/269 - Train Accuracy: 0.9674, Validation Accuracy: 0.9712, Loss: 0.0290\n",
      "Epoch   8 Batch  200/269 - Train Accuracy: 0.9733, Validation Accuracy: 0.9716, Loss: 0.0274\n",
      "Epoch   8 Batch  210/269 - Train Accuracy: 0.9688, Validation Accuracy: 0.9722, Loss: 0.0263\n",
      "Epoch   8 Batch  220/269 - Train Accuracy: 0.9647, Validation Accuracy: 0.9699, Loss: 0.0285\n",
      "Epoch   8 Batch  230/269 - Train Accuracy: 0.9745, Validation Accuracy: 0.9732, Loss: 0.0265\n",
      "Epoch   8 Batch  240/269 - Train Accuracy: 0.9712, Validation Accuracy: 0.9658, Loss: 0.0265\n",
      "Epoch   8 Batch  250/269 - Train Accuracy: 0.9723, Validation Accuracy: 0.9672, Loss: 0.0270\n",
      "Epoch   8 Batch  260/269 - Train Accuracy: 0.9735, Validation Accuracy: 0.9691, Loss: 0.0316\n",
      "Epoch   9 Batch   10/269 - Train Accuracy: 0.9616, Validation Accuracy: 0.9679, Loss: 0.0232\n",
      "Epoch   9 Batch   20/269 - Train Accuracy: 0.9697, Validation Accuracy: 0.9707, Loss: 0.0265\n",
      "Epoch   9 Batch   30/269 - Train Accuracy: 0.9673, Validation Accuracy: 0.9749, Loss: 0.0276\n",
      "Epoch   9 Batch   40/269 - Train Accuracy: 0.9691, Validation Accuracy: 0.9649, Loss: 0.0286\n",
      "Epoch   9 Batch   50/269 - Train Accuracy: 0.9594, Validation Accuracy: 0.9707, Loss: 0.0310\n",
      "Epoch   9 Batch   60/269 - Train Accuracy: 0.9710, Validation Accuracy: 0.9730, Loss: 0.0263\n",
      "Epoch   9 Batch   70/269 - Train Accuracy: 0.9754, Validation Accuracy: 0.9698, Loss: 0.0281\n",
      "Epoch   9 Batch   80/269 - Train Accuracy: 0.9731, Validation Accuracy: 0.9703, Loss: 0.0240\n",
      "Epoch   9 Batch   90/269 - Train Accuracy: 0.9706, Validation Accuracy: 0.9696, Loss: 0.0264\n",
      "Epoch   9 Batch  100/269 - Train Accuracy: 0.9775, Validation Accuracy: 0.9766, Loss: 0.0249\n",
      "Epoch   9 Batch  110/269 - Train Accuracy: 0.9673, Validation Accuracy: 0.9668, Loss: 0.0244\n",
      "Epoch   9 Batch  120/269 - Train Accuracy: 0.9599, Validation Accuracy: 0.9605, Loss: 0.0273\n",
      "Epoch   9 Batch  130/269 - Train Accuracy: 0.9698, Validation Accuracy: 0.9713, Loss: 0.0283\n",
      "Epoch   9 Batch  140/269 - Train Accuracy: 0.9701, Validation Accuracy: 0.9761, Loss: 0.0269\n",
      "Epoch   9 Batch  150/269 - Train Accuracy: 0.9729, Validation Accuracy: 0.9757, Loss: 0.0272\n",
      "Epoch   9 Batch  160/269 - Train Accuracy: 0.9774, Validation Accuracy: 0.9746, Loss: 0.0267\n",
      "Epoch   9 Batch  170/269 - Train Accuracy: 0.9714, Validation Accuracy: 0.9708, Loss: 0.0251\n",
      "Epoch   9 Batch  180/269 - Train Accuracy: 0.9787, Validation Accuracy: 0.9732, Loss: 0.0220\n",
      "Epoch   9 Batch  190/269 - Train Accuracy: 0.9766, Validation Accuracy: 0.9731, Loss: 0.0255\n",
      "Epoch   9 Batch  200/269 - Train Accuracy: 0.9819, Validation Accuracy: 0.9770, Loss: 0.0210\n",
      "Epoch   9 Batch  210/269 - Train Accuracy: 0.9749, Validation Accuracy: 0.9730, Loss: 0.0213\n",
      "Epoch   9 Batch  220/269 - Train Accuracy: 0.9698, Validation Accuracy: 0.9731, Loss: 0.0233\n",
      "Epoch   9 Batch  230/269 - Train Accuracy: 0.9750, Validation Accuracy: 0.9740, Loss: 0.0246\n",
      "Epoch   9 Batch  240/269 - Train Accuracy: 0.9730, Validation Accuracy: 0.9727, Loss: 0.0213\n",
      "Epoch   9 Batch  250/269 - Train Accuracy: 0.9697, Validation Accuracy: 0.9800, Loss: 0.0238\n",
      "Epoch   9 Batch  260/269 - Train Accuracy: 0.9796, Validation Accuracy: 0.9727, Loss: 0.0279\n",
      "Model Trained and Saved\n"
     ]
    }
   ],
   "source": [
    "\"\"\"\n",
    "DON'T MODIFY ANYTHING IN THIS CELL\n",
    "\"\"\"\n",
    "def get_accuracy(target, logits):\n",
    "    \"\"\"\n",
    "    Calculate accuracy\n",
    "    \"\"\"\n",
    "    max_seq = max(target.shape[1], logits.shape[1])\n",
    "    if max_seq - target.shape[1]:\n",
    "        target = np.pad(\n",
    "            target,\n",
    "            [(0,0),(0,max_seq - target.shape[1])],\n",
    "            'constant')\n",
    "    if max_seq - logits.shape[1]:\n",
    "        logits = np.pad(\n",
    "            logits,\n",
    "            [(0,0),(0,max_seq - logits.shape[1])],\n",
    "            'constant')\n",
    "\n",
    "    return np.mean(np.equal(target, logits))\n",
    "\n",
    "# Split data to training and validation sets\n",
    "train_source = source_int_text[batch_size:]\n",
    "train_target = target_int_text[batch_size:]\n",
    "valid_source = source_int_text[:batch_size]\n",
    "valid_target = target_int_text[:batch_size]\n",
    "(valid_sources_batch, valid_targets_batch, valid_sources_lengths, valid_targets_lengths ) = next(get_batches(valid_source,\n",
    "                                                                                                             valid_target,\n",
    "                                                                                                             batch_size,\n",
    "                                                                                                             source_vocab_to_int['<PAD>'],\n",
    "                                                                                                             target_vocab_to_int['<PAD>']))                                                                                                  \n",
    "with tf.Session(graph=train_graph) as sess:\n",
    "    sess.run(tf.global_variables_initializer())\n",
    "\n",
    "    for epoch_i in range(epochs):\n",
    "        for batch_i, (source_batch, target_batch, sources_lengths, targets_lengths) in enumerate(\n",
    "                get_batches(train_source, train_target, batch_size,\n",
    "                            source_vocab_to_int['<PAD>'],\n",
    "                            target_vocab_to_int['<PAD>'])):\n",
    "\n",
    "            _, loss = sess.run(\n",
    "                [train_op, cost],\n",
    "                {input_data: source_batch,\n",
    "                 targets: target_batch,\n",
    "                 lr: learning_rate,\n",
    "                 target_sequence_length: targets_lengths,\n",
    "                 source_sequence_length: sources_lengths,\n",
    "                 keep_prob: keep_probability})\n",
    "\n",
    "\n",
    "            if batch_i % display_step == 0 and batch_i > 0:\n",
    "\n",
    "\n",
    "                batch_train_logits = sess.run(\n",
    "                    inference_logits,\n",
    "                    {input_data: source_batch,\n",
    "                     source_sequence_length: sources_lengths,\n",
    "                     target_sequence_length: targets_lengths,\n",
    "                     keep_prob: 1.0})\n",
    "\n",
    "\n",
    "                batch_valid_logits = sess.run(\n",
    "                    inference_logits,\n",
    "                    {input_data: valid_sources_batch,\n",
    "                     source_sequence_length: valid_sources_lengths,\n",
    "                     target_sequence_length: valid_targets_lengths,\n",
    "                     keep_prob: 1.0})\n",
    "\n",
    "                train_acc = get_accuracy(target_batch, batch_train_logits)\n",
    "\n",
    "                valid_acc = get_accuracy(valid_targets_batch, batch_valid_logits)\n",
    "\n",
    "                print('Epoch {:>3} Batch {:>4}/{} - Train Accuracy: {:>6.4f}, Validation Accuracy: {:>6.4f}, Loss: {:>6.4f}'\n",
    "                      .format(epoch_i, batch_i, len(source_int_text) // batch_size, train_acc, valid_acc, loss))\n",
    "\n",
    "    # Save Model\n",
    "    saver = tf.train.Saver()\n",
    "    saver.save(sess, save_path)\n",
    "    print('Model Trained and Saved')"
   ]
  },
  {
   "cell_type": "markdown",
   "metadata": {
    "deletable": true,
    "editable": true
   },
   "source": [
    "### Save Parameters\n",
    "Save the `batch_size` and `save_path` parameters for inference."
   ]
  },
  {
   "cell_type": "code",
   "execution_count": 129,
   "metadata": {
    "collapsed": true,
    "deletable": true,
    "editable": true
   },
   "outputs": [],
   "source": [
    "\"\"\"\n",
    "DON'T MODIFY ANYTHING IN THIS CELL\n",
    "\"\"\"\n",
    "# Save parameters for checkpoint\n",
    "helper.save_params(save_path)"
   ]
  },
  {
   "cell_type": "markdown",
   "metadata": {
    "deletable": true,
    "editable": true
   },
   "source": [
    "# Checkpoint"
   ]
  },
  {
   "cell_type": "code",
   "execution_count": 130,
   "metadata": {
    "collapsed": false,
    "deletable": true,
    "editable": true
   },
   "outputs": [],
   "source": [
    "\"\"\"\n",
    "DON'T MODIFY ANYTHING IN THIS CELL\n",
    "\"\"\"\n",
    "import tensorflow as tf\n",
    "import numpy as np\n",
    "import helper\n",
    "import problem_unittests as tests\n",
    "\n",
    "_, (source_vocab_to_int, target_vocab_to_int), (source_int_to_vocab, target_int_to_vocab) = helper.load_preprocess()\n",
    "load_path = helper.load_params()"
   ]
  },
  {
   "cell_type": "markdown",
   "metadata": {
    "deletable": true,
    "editable": true
   },
   "source": [
    "## Sentence to Sequence\n",
    "To feed a sentence into the model for translation, you first need to preprocess it.  Implement the function `sentence_to_seq()` to preprocess new sentences.\n",
    "\n",
    "- Convert the sentence to lowercase\n",
    "- Convert words into ids using `vocab_to_int`\n",
    " - Convert words not in the vocabulary, to the `<UNK>` word id."
   ]
  },
  {
   "cell_type": "code",
   "execution_count": 131,
   "metadata": {
    "collapsed": false,
    "deletable": true,
    "editable": true
   },
   "outputs": [
    {
     "name": "stdout",
     "output_type": "stream",
     "text": [
      "Tests Passed\n"
     ]
    }
   ],
   "source": [
    "def sentence_to_seq(sentence, vocab_to_int):\n",
    "    \"\"\"\n",
    "    Convert a sentence to a sequence of ids\n",
    "    :param sentence: String\n",
    "    :param vocab_to_int: Dictionary to go from the words to an id\n",
    "    :return: List of word ids\n",
    "    \"\"\"\n",
    "    return [vocab_to_int.get(word, vocab_to_int['<UNK>']) for word in sentence.lower().split()]\n",
    "\n",
    "\n",
    "\"\"\"\n",
    "DON'T MODIFY ANYTHING IN THIS CELL THAT IS BELOW THIS LINE\n",
    "\"\"\"\n",
    "tests.test_sentence_to_seq(sentence_to_seq)"
   ]
  },
  {
   "cell_type": "markdown",
   "metadata": {
    "deletable": true,
    "editable": true
   },
   "source": [
    "## Translate\n",
    "This will translate `translate_sentence` from English to French."
   ]
  },
  {
   "cell_type": "code",
   "execution_count": 132,
   "metadata": {
    "collapsed": false,
    "deletable": true,
    "editable": true
   },
   "outputs": [
    {
     "name": "stdout",
     "output_type": "stream",
     "text": [
      "INFO:tensorflow:Restoring parameters from checkpoints/dev\n",
      "Input\n",
      "  Word Ids:      [62, 85, 220, 116, 192, 22, 61]\n",
      "  English Words: ['he', 'saw', 'a', 'old', 'yellow', 'truck', '.']\n",
      "\n",
      "Prediction\n",
      "  Word Ids:      [257, 147, 206, 318, 115, 79, 121, 1]\n",
      "  French Words: il vu un vieux camion bleu . <EOS>\n"
     ]
    }
   ],
   "source": [
    "translate_sentence = 'he saw a old yellow truck .'\n",
    "\n",
    "\n",
    "\"\"\"\n",
    "DON'T MODIFY ANYTHING IN THIS CELL\n",
    "\"\"\"\n",
    "translate_sentence = sentence_to_seq(translate_sentence, source_vocab_to_int)\n",
    "\n",
    "loaded_graph = tf.Graph()\n",
    "with tf.Session(graph=loaded_graph) as sess:\n",
    "    # Load saved model\n",
    "    loader = tf.train.import_meta_graph(load_path + '.meta')\n",
    "    loader.restore(sess, load_path)\n",
    "\n",
    "    input_data = loaded_graph.get_tensor_by_name('input:0')\n",
    "    logits = loaded_graph.get_tensor_by_name('predictions:0')\n",
    "    target_sequence_length = loaded_graph.get_tensor_by_name('target_sequence_length:0')\n",
    "    source_sequence_length = loaded_graph.get_tensor_by_name('source_sequence_length:0')\n",
    "    keep_prob = loaded_graph.get_tensor_by_name('keep_prob:0')\n",
    "\n",
    "    translate_logits = sess.run(logits, {input_data: [translate_sentence]*batch_size,\n",
    "                                         target_sequence_length: [len(translate_sentence)*2]*batch_size,\n",
    "                                         source_sequence_length: [len(translate_sentence)]*batch_size,\n",
    "                                         keep_prob: 1.0})[0]\n",
    "\n",
    "print('Input')\n",
    "print('  Word Ids:      {}'.format([i for i in translate_sentence]))\n",
    "print('  English Words: {}'.format([source_int_to_vocab[i] for i in translate_sentence]))\n",
    "\n",
    "print('\\nPrediction')\n",
    "print('  Word Ids:      {}'.format([i for i in translate_logits]))\n",
    "print('  French Words: {}'.format(\" \".join([target_int_to_vocab[i] for i in translate_logits])))\n"
   ]
  },
  {
   "cell_type": "markdown",
   "metadata": {
    "deletable": true,
    "editable": true
   },
   "source": [
    "## Imperfect Translation\n",
    "You might notice that some sentences translate better than others.  Since the dataset you're using only has a vocabulary of 227 English words of the thousands that you use, you're only going to see good results using these words.  For this project, you don't need a perfect translation. However, if you want to create a better translation model, you'll need better data.\n",
    "\n",
    "You can train on the [WMT10 French-English corpus](http://www.statmt.org/wmt10/training-giga-fren.tar).  This dataset has more vocabulary and richer in topics discussed.  However, this will take you days to train, so make sure you've a GPU and the neural network is performing well on dataset we provided.  Just make sure you play with the WMT10 corpus after you've submitted this project.\n",
    "## Submitting This Project\n",
    "When submitting this project, make sure to run all the cells before saving the notebook. Save the notebook file as \"dlnd_language_translation.ipynb\" and save it as a HTML file under \"File\" -> \"Download as\". Include the \"helper.py\" and \"problem_unittests.py\" files in your submission."
   ]
  }
 ],
 "metadata": {
  "anaconda-cloud": {},
  "kernelspec": {
   "display_name": "Python [default]",
   "language": "python",
   "name": "python3"
  },
  "language_info": {
   "codemirror_mode": {
    "name": "ipython",
    "version": 3
   },
   "file_extension": ".py",
   "mimetype": "text/x-python",
   "name": "python",
   "nbconvert_exporter": "python",
   "pygments_lexer": "ipython3",
   "version": "3.6.1"
  }
 },
 "nbformat": 4,
 "nbformat_minor": 1
}
